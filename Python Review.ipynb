{
  "nbformat": 4,
  "nbformat_minor": 0,
  "metadata": {
    "anaconda-cloud": {},
    "kernelspec": {
      "display_name": "Python [default]",
      "language": "python",
      "name": "python3"
    },
    "language_info": {
      "codemirror_mode": {
        "name": "ipython",
        "version": 3
      },
      "file_extension": ".py",
      "mimetype": "text/x-python",
      "name": "python",
      "nbconvert_exporter": "python",
      "pygments_lexer": "ipython3",
      "version": "3.5.2"
    },
    "colab": {
      "name": "Python.ipynb",
      "provenance": [],
      "collapsed_sections": [
        "wQ1suLkV-0Mh",
        "EOnB4A0Y-0NV",
        "aid8ixZr-0N4",
        "kOAlB1Sw-0N5",
        "OPoj2_ux-0OF",
        "XQZm7aGd-0Oj",
        "IXrs3QDf-0Oy",
        "ERdnV84X-0PD",
        "S4hLA4iJ-0PV",
        "DbsjNtqr-0PW",
        "kcwU_LYL-0Pb"
      ]
    }
  },
  "cells": [
    {
      "cell_type": "markdown",
      "metadata": {
        "id": "FthRUaCv-0F0",
        "colab_type": "text"
      },
      "source": [
        "Notebook from the FDP Python For Machine Learning CSE, GEC Palakkad"
      ]
    },
    {
      "cell_type": "markdown",
      "metadata": {
        "id": "onQmQ71RxdLz",
        "colab_type": "text"
      },
      "source": [
        "Python Review\n",
        "==="
      ]
    },
    {
      "cell_type": "markdown",
      "metadata": {
        "id": "GLE9zgc3-0F2",
        "colab_type": "text"
      },
      "source": [
        "This is a module about python programming for data science. In this module we will teach you tools and techniques for effective data manipulation. This is an essential module as it forms the basis for all upcoming modules. At the end of this module we expect you to be able apply standard data engineering techniques to practical datasets.\n",
        "\n",
        "[Python](http://python.org) is developed under an open source license, making it freely usable and distributable, even for commercial use. Python's license is administered by the Python Software Foundation. [Guido Van Rossum](https://en.wikipedia.org/wiki/Guido_van_Rossum)  started python as a hobby project and later turned to a general purpose programming language. \n",
        "\n",
        "Python is easy to build sharable packages(libraries) and has excellent cross platform support. There are two major verisons of python programming language, 2 and 3. The latest stable version at the time of writing this module is 2.7.12 and 3.6.1. We are using python 3 in this course.\n",
        "\n",
        "The interface you are seeing is called [jupyter notebook (ipython notebook)](http://jupyter.org) and we will use this in whole of our course as programming environment. Jupyter makes programming more interactive, documentable and fun. "
      ]
    },
    {
      "cell_type": "markdown",
      "metadata": {
        "id": "j3IHgpaR-0F3",
        "colab_type": "text"
      },
      "source": [
        "### Python Programming Files"
      ]
    },
    {
      "cell_type": "markdown",
      "metadata": {
        "id": "xOX7OdJE-0F4",
        "colab_type": "text"
      },
      "source": [
        "* Python code is usually stored in text files with the file ending \"`.py`\":\n",
        "\n",
        "        my_python_program.py\n",
        "\n",
        "* Python is and interpreted language and every line in a Python program file is considered to be a Python statement, or part thereof. \n",
        "\n",
        "    * The only exception is comment lines, which start with the character `#` or `'''` or `\"\"\"`\n",
        "    \n",
        "* Python is an indented language. Every code block is described by its indentation\n",
        "\n",
        "* To run our Python program from the command line we use:\n",
        "\n",
        "        $ python my_python_program.py\n",
        "\n",
        "#### Jupyter Notebook\n",
        "\n",
        "This file - a jupyter notebook -  does not follow the standard pattern with Python code in a text file. Instead, an jupyter notebook is stored as a file in the [JSON](http://en.wikipedia.org/wiki/JSON) format. The advantage is that we can mix formatted text, Python code and code output. It requires the jupyter notebook server to run it though, and therefore isn't a stand-alone Python program as described above. Other than that, there is no difference between the Python code that goes into a program file or an jupyter notebook.\n",
        "\n",
        "More Information on [jupyter notebook](http://jupyter-notebook-beginner-guide.readthedocs.io/en/latest/what_is_jupyter.html)"
      ]
    },
    {
      "cell_type": "markdown",
      "metadata": {
        "id": "fLJOccso-0F5",
        "colab_type": "text"
      },
      "source": [
        "Its important to know some minimal shortcuts in jupyter notebook, so that you could save some time. They are:\n",
        "\n",
        "\"a\"             - inserts a cell above.\n",
        "\n",
        "\"b\"             - inserts a cell below. \n",
        "\n",
        "\"dd\"            - deletes the current cell.\n",
        "\n",
        "\"shift + enter\" - runs the current cell and selects below.\n",
        "\n",
        "\"ctrl + enter\"  - runs the selected cells.\n",
        "\n",
        "\"alt + enter\"   - runs the current cell and inserts below."
      ]
    },
    {
      "cell_type": "markdown",
      "metadata": {
        "id": "d4ObAQiM-0F6",
        "colab_type": "text"
      },
      "source": [
        "### Hello, World"
      ]
    },
    {
      "cell_type": "markdown",
      "metadata": {
        "id": "7NxYZXOc-0F7",
        "colab_type": "text"
      },
      "source": [
        "Printing to console"
      ]
    },
    {
      "cell_type": "code",
      "metadata": {
        "id": "NQB0Grp--0F8",
        "colab_type": "code",
        "colab": {
          "base_uri": "https://localhost:8080/",
          "height": 34
        },
        "outputId": "74ad2e44-33a2-4ca7-b7c1-42400fdc78e3"
      },
      "source": [
        "%%file greet.py\n",
        "print(\"Hello, World!\")"
      ],
      "execution_count": 1,
      "outputs": [
        {
          "output_type": "stream",
          "text": [
            "Writing greet.py\n"
          ],
          "name": "stdout"
        }
      ]
    },
    {
      "cell_type": "code",
      "metadata": {
        "id": "dmsftmyeFpAG",
        "colab_type": "code",
        "colab": {}
      },
      "source": [
        ""
      ],
      "execution_count": 1,
      "outputs": []
    },
    {
      "cell_type": "code",
      "metadata": {
        "id": "WjncAiiSFqUj",
        "colab_type": "code",
        "colab": {}
      },
      "source": [
        ""
      ],
      "execution_count": 1,
      "outputs": []
    },
    {
      "cell_type": "code",
      "metadata": {
        "id": "5qC4CQW5-0GC",
        "colab_type": "code",
        "colab": {
          "base_uri": "https://localhost:8080/",
          "height": 34
        },
        "outputId": "e272b98a-44ac-4d64-bd5a-ddf47fb29355"
      },
      "source": [
        "!python greet.py"
      ],
      "execution_count": 2,
      "outputs": [
        {
          "output_type": "stream",
          "text": [
            "Hello, World!\n"
          ],
          "name": "stdout"
        }
      ]
    },
    {
      "cell_type": "markdown",
      "metadata": {
        "id": "BijjPNFC-0GG",
        "colab_type": "text"
      },
      "source": [
        "### Data Types and Variables"
      ]
    },
    {
      "cell_type": "markdown",
      "metadata": {
        "id": "7xA286Lt-0GH",
        "colab_type": "text"
      },
      "source": [
        "Python variable names can contain alphanumerical characters [__a-z, A-Z, 0-9__] and some special characters ( _ ). \n",
        "\n",
        "By convention, variable names start with a lower-case letter, and Class names start with a capital letter.\n",
        "\n",
        "In addition, there are the keywords that cannot be used as variable names:\n",
        "\n",
        "```\n",
        "and as assert break class continue def del elif else except exec finally for from \n",
        "global if import in is lambda not or pass print raise return try while with yield\n",
        "```\n"
      ]
    },
    {
      "cell_type": "markdown",
      "metadata": {
        "id": "GD5vbGoQ-0GI",
        "colab_type": "text"
      },
      "source": [
        "__Assignment__\n",
        "\n",
        "The assignment operator in Python is =. Python is a dynamically typed language, so we do not need to specify the type of a variable when we create one."
      ]
    },
    {
      "cell_type": "code",
      "metadata": {
        "id": "_QaEIOML-0GI",
        "colab_type": "code",
        "colab": {
          "base_uri": "https://localhost:8080/",
          "height": 34
        },
        "outputId": "66d4d0a8-7a2c-4449-a91b-d58f562ac6b5"
      },
      "source": [
        "# Defining a variable is by value assignment\n",
        "my_variable = 1.0\n",
        "print(my_variable)"
      ],
      "execution_count": 3,
      "outputs": [
        {
          "output_type": "stream",
          "text": [
            "1.0\n"
          ],
          "name": "stdout"
        }
      ]
    },
    {
      "cell_type": "code",
      "metadata": {
        "id": "pfj7V0UB-0GN",
        "colab_type": "code",
        "colab": {}
      },
      "source": [
        "a = 10\n",
        "b = 20\n",
        "\n",
        "# Variable assignment\n",
        "c=a+b"
      ],
      "execution_count": 4,
      "outputs": []
    },
    {
      "cell_type": "markdown",
      "metadata": {
        "id": "NM2VqzVa-0GR",
        "colab_type": "text"
      },
      "source": [
        "__Fundamental Types__\n",
        "\n",
        "* `int` – represent integers, example: `5`\n",
        "* `float` – represent real numbers, example: `3.27`\n",
        "* `bool` – represent Boolean values `True` and `False` \n",
        "* `complex` – represent complex numbers example: `11 - 2.2j`\n",
        "* `str` – represent string of charactors. example: `\"abcdef\"`\n",
        "* `type()` can be used to see the type of an object\n"
      ]
    },
    {
      "cell_type": "code",
      "metadata": {
        "id": "jYwsVaD2-0GS",
        "colab_type": "code",
        "colab": {
          "base_uri": "https://localhost:8080/",
          "height": 34
        },
        "outputId": "2155de10-25da-450b-cf3e-02c306653b87"
      },
      "source": [
        "type(1)"
      ],
      "execution_count": 5,
      "outputs": [
        {
          "output_type": "execute_result",
          "data": {
            "text/plain": [
              "int"
            ]
          },
          "metadata": {
            "tags": []
          },
          "execution_count": 5
        }
      ]
    },
    {
      "cell_type": "code",
      "metadata": {
        "id": "y0f5xFKZ-0GX",
        "colab_type": "code",
        "colab": {
          "base_uri": "https://localhost:8080/",
          "height": 34
        },
        "outputId": "71c46780-6ead-4aec-ac7e-4d1a472aed0b"
      },
      "source": [
        "type(2.7)"
      ],
      "execution_count": 6,
      "outputs": [
        {
          "output_type": "execute_result",
          "data": {
            "text/plain": [
              "float"
            ]
          },
          "metadata": {
            "tags": []
          },
          "execution_count": 6
        }
      ]
    },
    {
      "cell_type": "code",
      "metadata": {
        "id": "xGHi-r8l-0Gb",
        "colab_type": "code",
        "colab": {
          "base_uri": "https://localhost:8080/",
          "height": 34
        },
        "outputId": "0917b148-f65b-463a-d608-148f63431c7e"
      },
      "source": [
        "type(1-2j)"
      ],
      "execution_count": 7,
      "outputs": [
        {
          "output_type": "execute_result",
          "data": {
            "text/plain": [
              "complex"
            ]
          },
          "metadata": {
            "tags": []
          },
          "execution_count": 7
        }
      ]
    },
    {
      "cell_type": "code",
      "metadata": {
        "id": "QypZerfZ-0Gk",
        "colab_type": "code",
        "colab": {
          "base_uri": "https://localhost:8080/",
          "height": 34
        },
        "outputId": "05cbeb77-3e71-47a3-fc50-57bbc40c1779"
      },
      "source": [
        "type(\"a\")"
      ],
      "execution_count": 8,
      "outputs": [
        {
          "output_type": "execute_result",
          "data": {
            "text/plain": [
              "str"
            ]
          },
          "metadata": {
            "tags": []
          },
          "execution_count": 8
        }
      ]
    },
    {
      "cell_type": "code",
      "metadata": {
        "id": "x5QN38Ic-0Hb",
        "colab_type": "code",
        "colab": {
          "base_uri": "https://localhost:8080/",
          "height": 34
        },
        "outputId": "e98eb963-ac42-45ab-e37e-fd0370fc76e7"
      },
      "source": [
        "type(True)"
      ],
      "execution_count": 9,
      "outputs": [
        {
          "output_type": "execute_result",
          "data": {
            "text/plain": [
              "bool"
            ]
          },
          "metadata": {
            "tags": []
          },
          "execution_count": 9
        }
      ]
    },
    {
      "cell_type": "markdown",
      "metadata": {
        "id": "Oy-i7oc3-0H5",
        "colab_type": "text"
      },
      "source": [
        "*Although not explicitly specified, a variable does have a type associated with it. \n",
        "The type is derived from the value that was assigned to it.*"
      ]
    },
    {
      "cell_type": "code",
      "metadata": {
        "id": "g0qlrLoO-0IU",
        "colab_type": "code",
        "colab": {
          "base_uri": "https://localhost:8080/",
          "height": 34
        },
        "outputId": "e7712d11-f592-4950-ecfc-6df0e6f2597b"
      },
      "source": [
        "type(my_variable)"
      ],
      "execution_count": 10,
      "outputs": [
        {
          "output_type": "execute_result",
          "data": {
            "text/plain": [
              "float"
            ]
          },
          "metadata": {
            "tags": []
          },
          "execution_count": 10
        }
      ]
    },
    {
      "cell_type": "code",
      "metadata": {
        "id": "QcJbLRKk-0If",
        "colab_type": "code",
        "colab": {
          "base_uri": "https://localhost:8080/",
          "height": 34
        },
        "outputId": "6072f829-5895-47d0-849d-7d96538a2768"
      },
      "source": [
        "my_variable=\"abc\"\n",
        "type(my_variable)"
      ],
      "execution_count": 11,
      "outputs": [
        {
          "output_type": "execute_result",
          "data": {
            "text/plain": [
              "str"
            ]
          },
          "metadata": {
            "tags": []
          },
          "execution_count": 11
        }
      ]
    },
    {
      "cell_type": "markdown",
      "metadata": {
        "id": "2tcE1pGt-0In",
        "colab_type": "text"
      },
      "source": [
        "__Type casting__\n",
        "\n",
        "At most of the times, depending on your code you need to convert variables and its explained in the following section.\n",
        "Following are the commands used to convert the variables to `int, float, string, boolean and complex` respectively.\n",
        "\n",
        "1. `int()` \n",
        "2. `float()`\n",
        "3. `str()`\n",
        "4. `bool()`\n",
        "5. `complex()`"
      ]
    },
    {
      "cell_type": "code",
      "metadata": {
        "id": "vc5DAMCm-0Ip",
        "colab_type": "code",
        "colab": {
          "base_uri": "https://localhost:8080/",
          "height": 34
        },
        "outputId": "b3242b05-726f-42b5-d2a3-35b029ba5f68"
      },
      "source": [
        "x = 1.5 # float\n",
        "print(x, type(x))"
      ],
      "execution_count": 12,
      "outputs": [
        {
          "output_type": "stream",
          "text": [
            "1.5 <class 'float'>\n"
          ],
          "name": "stdout"
        }
      ]
    },
    {
      "cell_type": "code",
      "metadata": {
        "id": "GRM5DD1D-0Iv",
        "colab_type": "code",
        "colab": {
          "base_uri": "https://localhost:8080/",
          "height": 34
        },
        "outputId": "a9c82083-4b52-4d6f-cad7-12350041aefc"
      },
      "source": [
        "x = int(x) # casting float to int\n",
        "print(x, type(x))"
      ],
      "execution_count": 13,
      "outputs": [
        {
          "output_type": "stream",
          "text": [
            "1 <class 'int'>\n"
          ],
          "name": "stdout"
        }
      ]
    },
    {
      "cell_type": "code",
      "metadata": {
        "id": "ejS_krbd-0I6",
        "colab_type": "code",
        "colab": {
          "base_uri": "https://localhost:8080/",
          "height": 34
        },
        "outputId": "5471c4e9-192e-4afc-9da8-d99d60456c00"
      },
      "source": [
        "z = complex(x)\n",
        "print(z, type(z))"
      ],
      "execution_count": 14,
      "outputs": [
        {
          "output_type": "stream",
          "text": [
            "(1+0j) <class 'complex'>\n"
          ],
          "name": "stdout"
        }
      ]
    },
    {
      "cell_type": "markdown",
      "metadata": {
        "id": "lxr6X5oU-0JB",
        "colab_type": "text"
      },
      "source": [
        "*Complex variables cannot be cast to floats or integers. We need to use `z.real` or `z.imag` to extract the part of the complex number we want.*"
      ]
    },
    {
      "cell_type": "code",
      "metadata": {
        "id": "VpzULJp0-0JC",
        "colab_type": "code",
        "colab": {
          "base_uri": "https://localhost:8080/",
          "height": 163
        },
        "outputId": "c5253975-2697-4a97-82fb-5199208466cc"
      },
      "source": [
        "x = float(z)"
      ],
      "execution_count": 15,
      "outputs": [
        {
          "output_type": "error",
          "ename": "TypeError",
          "evalue": "ignored",
          "traceback": [
            "\u001b[0;31m---------------------------------------------------------------------------\u001b[0m",
            "\u001b[0;31mTypeError\u001b[0m                                 Traceback (most recent call last)",
            "\u001b[0;32m<ipython-input-15-19c840f40bd8>\u001b[0m in \u001b[0;36m<module>\u001b[0;34m()\u001b[0m\n\u001b[0;32m----> 1\u001b[0;31m \u001b[0mx\u001b[0m \u001b[0;34m=\u001b[0m \u001b[0mfloat\u001b[0m\u001b[0;34m(\u001b[0m\u001b[0mz\u001b[0m\u001b[0;34m)\u001b[0m\u001b[0;34m\u001b[0m\u001b[0;34m\u001b[0m\u001b[0m\n\u001b[0m",
            "\u001b[0;31mTypeError\u001b[0m: can't convert complex to float"
          ]
        }
      ]
    },
    {
      "cell_type": "code",
      "metadata": {
        "id": "S0qwshJT-0JK",
        "colab_type": "code",
        "colab": {
          "base_uri": "https://localhost:8080/",
          "height": 34
        },
        "outputId": "2a6e4fbb-4978-4e69-e489-df9ed438cc2f"
      },
      "source": [
        "x = float(z.real)\n",
        "print(x, type(x))"
      ],
      "execution_count": 16,
      "outputs": [
        {
          "output_type": "stream",
          "text": [
            "1.0 <class 'float'>\n"
          ],
          "name": "stdout"
        }
      ]
    },
    {
      "cell_type": "code",
      "metadata": {
        "id": "9_XUsK8N-0JP",
        "colab_type": "code",
        "colab": {
          "base_uri": "https://localhost:8080/",
          "height": 34
        },
        "outputId": "4a359eee-cc72-40c9-f41c-63e41f265571"
      },
      "source": [
        "x = float(\"12\")\n",
        "print(x, type(x))"
      ],
      "execution_count": 17,
      "outputs": [
        {
          "output_type": "stream",
          "text": [
            "12.0 <class 'float'>\n"
          ],
          "name": "stdout"
        }
      ]
    },
    {
      "cell_type": "code",
      "metadata": {
        "id": "gXrXgFiw-0JV",
        "colab_type": "code",
        "colab": {
          "base_uri": "https://localhost:8080/",
          "height": 180
        },
        "outputId": "b8055ada-e868-43d5-e45d-7a0aab52654c"
      },
      "source": [
        "x = float(\"12a\")\n",
        "print(x, type(x))"
      ],
      "execution_count": 18,
      "outputs": [
        {
          "output_type": "error",
          "ename": "ValueError",
          "evalue": "ignored",
          "traceback": [
            "\u001b[0;31m---------------------------------------------------------------------------\u001b[0m",
            "\u001b[0;31mValueError\u001b[0m                                Traceback (most recent call last)",
            "\u001b[0;32m<ipython-input-18-4cde7df12ee7>\u001b[0m in \u001b[0;36m<module>\u001b[0;34m()\u001b[0m\n\u001b[0;32m----> 1\u001b[0;31m \u001b[0mx\u001b[0m \u001b[0;34m=\u001b[0m \u001b[0mfloat\u001b[0m\u001b[0;34m(\u001b[0m\u001b[0;34m\"12a\"\u001b[0m\u001b[0;34m)\u001b[0m\u001b[0;34m\u001b[0m\u001b[0;34m\u001b[0m\u001b[0m\n\u001b[0m\u001b[1;32m      2\u001b[0m \u001b[0mprint\u001b[0m\u001b[0;34m(\u001b[0m\u001b[0mx\u001b[0m\u001b[0;34m,\u001b[0m \u001b[0mtype\u001b[0m\u001b[0;34m(\u001b[0m\u001b[0mx\u001b[0m\u001b[0;34m)\u001b[0m\u001b[0;34m)\u001b[0m\u001b[0;34m\u001b[0m\u001b[0;34m\u001b[0m\u001b[0m\n",
            "\u001b[0;31mValueError\u001b[0m: could not convert string to float: '12a'"
          ]
        }
      ]
    },
    {
      "cell_type": "markdown",
      "metadata": {
        "id": "wqkeZRoj-0J2",
        "colab_type": "text"
      },
      "source": [
        "__Operators__"
      ]
    },
    {
      "cell_type": "markdown",
      "metadata": {
        "id": "-L34jWcW-0J4",
        "colab_type": "text"
      },
      "source": [
        "Most operators and comparisons in Python work as one would expect:\n",
        "\n",
        "__Arithmetic operators__\n",
        "\n",
        "- **`+`**\n",
        "- **`-`**\n",
        "- **`*`**\n",
        "- **`/`** \n",
        "- **`//`** (integer division)\n",
        "- `**`  (power)\n",
        "\n"
      ]
    },
    {
      "cell_type": "code",
      "metadata": {
        "id": "Qdbul8KG-0J5",
        "colab_type": "code",
        "colab": {
          "base_uri": "https://localhost:8080/",
          "height": 34
        },
        "outputId": "4e1a5dfb-0eaf-4d70-ea35-179e05e696aa"
      },
      "source": [
        "# add, sub, mul, div, power \n",
        "1 + 2, 1 - 2, 1 * 2, 1 / 2, 2**10 , 1//2"
      ],
      "execution_count": 19,
      "outputs": [
        {
          "output_type": "execute_result",
          "data": {
            "text/plain": [
              "(3, -1, 2, 0.5, 1024, 0)"
            ]
          },
          "metadata": {
            "tags": []
          },
          "execution_count": 19
        }
      ]
    },
    {
      "cell_type": "markdown",
      "metadata": {
        "id": "HxXX7qn5-0KA",
        "colab_type": "text"
      },
      "source": [
        "Integer division, Modulus"
      ]
    },
    {
      "cell_type": "code",
      "metadata": {
        "id": "w8DZrmqJ-0KB",
        "colab_type": "code",
        "colab": {
          "base_uri": "https://localhost:8080/",
          "height": 34
        },
        "outputId": "aa6899f4-599d-4bfe-d594-8bf7982160b4"
      },
      "source": [
        "3//2, 13%10"
      ],
      "execution_count": 20,
      "outputs": [
        {
          "output_type": "execute_result",
          "data": {
            "text/plain": [
              "(1, 3)"
            ]
          },
          "metadata": {
            "tags": []
          },
          "execution_count": 20
        }
      ]
    },
    {
      "cell_type": "code",
      "metadata": {
        "id": "RpciyopD-0KH",
        "colab_type": "code",
        "colab": {
          "base_uri": "https://localhost:8080/",
          "height": 34
        },
        "outputId": "96be70c4-c8c8-4523-bdf5-700108a8bb4d"
      },
      "source": [
        "type(1/2)"
      ],
      "execution_count": 21,
      "outputs": [
        {
          "output_type": "execute_result",
          "data": {
            "text/plain": [
              "float"
            ]
          },
          "metadata": {
            "tags": []
          },
          "execution_count": 21
        }
      ]
    },
    {
      "cell_type": "markdown",
      "metadata": {
        "id": "wKqF0QcN-0KO",
        "colab_type": "text"
      },
      "source": [
        "__Comparison Operators__\n",
        "\n",
        "- equals: \t**`==`**\n",
        "- not equals: \t**`!=`**\n",
        "- greater/less than:\t **`> `** and **` <`**\n",
        "- greater/less than or equal: \t**`>=`** and **`<=`**\n",
        "\n",
        "__Logical Operators__\n",
        " \n",
        "- **`and`**\n",
        "- **`or`**\n",
        "- **`not`**\n",
        "\n",
        "\n",
        "\n"
      ]
    },
    {
      "cell_type": "code",
      "metadata": {
        "id": "2m4SNm93-0KO",
        "colab_type": "code",
        "colab": {
          "base_uri": "https://localhost:8080/",
          "height": 34
        },
        "outputId": "4667a070-049f-42d6-fb73-850bf98da11a"
      },
      "source": [
        "True, False"
      ],
      "execution_count": 22,
      "outputs": [
        {
          "output_type": "execute_result",
          "data": {
            "text/plain": [
              "(True, False)"
            ]
          },
          "metadata": {
            "tags": []
          },
          "execution_count": 22
        }
      ]
    },
    {
      "cell_type": "code",
      "metadata": {
        "id": "XoBB615f-0KT",
        "colab_type": "code",
        "colab": {
          "base_uri": "https://localhost:8080/",
          "height": 34
        },
        "outputId": "b3222bf2-5da8-4941-bed8-0c4d9003649a"
      },
      "source": [
        "2 > 1, 2 <= 1"
      ],
      "execution_count": 23,
      "outputs": [
        {
          "output_type": "execute_result",
          "data": {
            "text/plain": [
              "(True, False)"
            ]
          },
          "metadata": {
            "tags": []
          },
          "execution_count": 23
        }
      ]
    },
    {
      "cell_type": "code",
      "metadata": {
        "id": "_ldZFnfJ-0KW",
        "colab_type": "code",
        "colab": {
          "base_uri": "https://localhost:8080/",
          "height": 34
        },
        "outputId": "eca3ab55-6e67-4d93-f106-dfc411d145ac"
      },
      "source": [
        "1 == 1.0"
      ],
      "execution_count": 24,
      "outputs": [
        {
          "output_type": "execute_result",
          "data": {
            "text/plain": [
              "True"
            ]
          },
          "metadata": {
            "tags": []
          },
          "execution_count": 24
        }
      ]
    },
    {
      "cell_type": "code",
      "metadata": {
        "id": "gA9vUpTe-0Ka",
        "colab_type": "code",
        "colab": {
          "base_uri": "https://localhost:8080/",
          "height": 34
        },
        "outputId": "0b2b99be-aedc-4bb5-f4b9-dac8410d5a41"
      },
      "source": [
        "# and\n",
        "True and False, True & False"
      ],
      "execution_count": 25,
      "outputs": [
        {
          "output_type": "execute_result",
          "data": {
            "text/plain": [
              "(False, False)"
            ]
          },
          "metadata": {
            "tags": []
          },
          "execution_count": 25
        }
      ]
    },
    {
      "cell_type": "code",
      "metadata": {
        "id": "kTZmIjRu-0Kc",
        "colab_type": "code",
        "colab": {
          "base_uri": "https://localhost:8080/",
          "height": 34
        },
        "outputId": "64292172-4152-415e-fafc-748058491923"
      },
      "source": [
        "# or\n",
        "True or False, True | False"
      ],
      "execution_count": 26,
      "outputs": [
        {
          "output_type": "execute_result",
          "data": {
            "text/plain": [
              "(True, True)"
            ]
          },
          "metadata": {
            "tags": []
          },
          "execution_count": 26
        }
      ]
    },
    {
      "cell_type": "code",
      "metadata": {
        "id": "4msgygbU-0Kg",
        "colab_type": "code",
        "colab": {
          "base_uri": "https://localhost:8080/",
          "height": 34
        },
        "outputId": "88d1c204-92dc-496a-b6bf-2329df841374"
      },
      "source": [
        "# not\n",
        "not True"
      ],
      "execution_count": 27,
      "outputs": [
        {
          "output_type": "execute_result",
          "data": {
            "text/plain": [
              "False"
            ]
          },
          "metadata": {
            "tags": []
          },
          "execution_count": 27
        }
      ]
    },
    {
      "cell_type": "code",
      "metadata": {
        "id": "loKV8f_9-0Kj",
        "colab_type": "code",
        "colab": {
          "base_uri": "https://localhost:8080/",
          "height": 51
        },
        "outputId": "10fd2153-2da0-42d4-99e8-392a509d74d0"
      },
      "source": [
        "x = int(True)\n",
        "print(x, type(x))\n",
        "\n",
        "y = float(False)\n",
        "print(y, type(y))"
      ],
      "execution_count": 28,
      "outputs": [
        {
          "output_type": "stream",
          "text": [
            "1 <class 'int'>\n",
            "0.0 <class 'float'>\n"
          ],
          "name": "stdout"
        }
      ]
    },
    {
      "cell_type": "code",
      "metadata": {
        "id": "UeGuL7Wz-0Kn",
        "colab_type": "code",
        "colab": {
          "base_uri": "https://localhost:8080/",
          "height": 34
        },
        "outputId": "6421484b-b389-4225-f140-9dcb0e08d407"
      },
      "source": [
        "True + True, True * False"
      ],
      "execution_count": 29,
      "outputs": [
        {
          "output_type": "execute_result",
          "data": {
            "text/plain": [
              "(2, 0)"
            ]
          },
          "metadata": {
            "tags": []
          },
          "execution_count": 29
        }
      ]
    },
    {
      "cell_type": "code",
      "metadata": {
        "id": "1CFrbE8u-0Kr",
        "colab_type": "code",
        "colab": {
          "base_uri": "https://localhost:8080/",
          "height": 34
        },
        "outputId": "eda3851a-452c-40e4-bbde-987feb7a4b08"
      },
      "source": [
        "# objects identical?\n",
        "l1 = l2 = [1,2]\n",
        "l1 is l2"
      ],
      "execution_count": 30,
      "outputs": [
        {
          "output_type": "execute_result",
          "data": {
            "text/plain": [
              "True"
            ]
          },
          "metadata": {
            "tags": []
          },
          "execution_count": 30
        }
      ]
    },
    {
      "cell_type": "markdown",
      "metadata": {
        "id": "pn58zvFD-0Kv",
        "colab_type": "text"
      },
      "source": [
        "### Data Structures"
      ]
    },
    {
      "cell_type": "markdown",
      "metadata": {
        "id": "OGVj-ayT-0Kv",
        "colab_type": "text"
      },
      "source": [
        "#### String"
      ]
    },
    {
      "cell_type": "markdown",
      "metadata": {
        "id": "6hgexJzz-0Kw",
        "colab_type": "text"
      },
      "source": [
        "Strings are the variable type that is used for storing sequences of characters (Text)."
      ]
    },
    {
      "cell_type": "code",
      "metadata": {
        "id": "hnraLwH1-0Kw",
        "colab_type": "code",
        "colab": {
          "base_uri": "https://localhost:8080/",
          "height": 34
        },
        "outputId": "35b5a748-e0f0-449a-eddf-12738abe6d57"
      },
      "source": [
        "s = \"Hello, world!\"\n",
        "type(s)"
      ],
      "execution_count": 31,
      "outputs": [
        {
          "output_type": "execute_result",
          "data": {
            "text/plain": [
              "str"
            ]
          },
          "metadata": {
            "tags": []
          },
          "execution_count": 31
        }
      ]
    },
    {
      "cell_type": "code",
      "metadata": {
        "id": "TjlVaX0P-0Kz",
        "colab_type": "code",
        "colab": {
          "base_uri": "https://localhost:8080/",
          "height": 34
        },
        "outputId": "cfd82177-fc2e-4e48-b6de-976b4ad0b500"
      },
      "source": [
        "# length of the string: the number of characters\n",
        "len(s)"
      ],
      "execution_count": 32,
      "outputs": [
        {
          "output_type": "execute_result",
          "data": {
            "text/plain": [
              "13"
            ]
          },
          "metadata": {
            "tags": []
          },
          "execution_count": 32
        }
      ]
    },
    {
      "cell_type": "code",
      "metadata": {
        "id": "zYIoE1QX-0K3",
        "colab_type": "code",
        "colab": {
          "base_uri": "https://localhost:8080/",
          "height": 34
        },
        "outputId": "9991f7e5-a6bf-4d09-a0f2-f760cd65123d"
      },
      "source": [
        "# replace a substring in a string with something else\n",
        "s2 = s.replace(\"world\", \"test\")\n",
        "print(s2)"
      ],
      "execution_count": 33,
      "outputs": [
        {
          "output_type": "stream",
          "text": [
            "Hello, test!\n"
          ],
          "name": "stdout"
        }
      ]
    },
    {
      "cell_type": "markdown",
      "metadata": {
        "id": "VRTwixD1-0K6",
        "colab_type": "text"
      },
      "source": [
        "We can index a character in a string using []:"
      ]
    },
    {
      "cell_type": "code",
      "metadata": {
        "id": "oUuibgd1-0K7",
        "colab_type": "code",
        "colab": {
          "base_uri": "https://localhost:8080/",
          "height": 35
        },
        "outputId": "7ad82383-4c9b-4dad-a9a5-1cbcec7754a3"
      },
      "source": [
        "s[0]"
      ],
      "execution_count": 34,
      "outputs": [
        {
          "output_type": "execute_result",
          "data": {
            "application/vnd.google.colaboratory.intrinsic+json": {
              "type": "string"
            },
            "text/plain": [
              "'H'"
            ]
          },
          "metadata": {
            "tags": []
          },
          "execution_count": 34
        }
      ]
    },
    {
      "cell_type": "markdown",
      "metadata": {
        "id": "VLIis_Iu-0K9",
        "colab_type": "text"
      },
      "source": [
        "We can extract the arbitrary sequences using indexing (using the syntax [start:stop])."
      ]
    },
    {
      "cell_type": "code",
      "metadata": {
        "id": "JVH4Dqyq-0K-",
        "colab_type": "code",
        "colab": {
          "base_uri": "https://localhost:8080/",
          "height": 35
        },
        "outputId": "c17df481-213f-48ee-8bff-f7c4116131cb"
      },
      "source": [
        "s[7:12]"
      ],
      "execution_count": 35,
      "outputs": [
        {
          "output_type": "execute_result",
          "data": {
            "application/vnd.google.colaboratory.intrinsic+json": {
              "type": "string"
            },
            "text/plain": [
              "'world'"
            ]
          },
          "metadata": {
            "tags": []
          },
          "execution_count": 35
        }
      ]
    },
    {
      "cell_type": "markdown",
      "metadata": {
        "id": "K7zLkpcV-0LB",
        "colab_type": "text"
      },
      "source": [
        "Slice every second character from string `s`"
      ]
    },
    {
      "cell_type": "code",
      "metadata": {
        "scrolled": true,
        "id": "UahWZ5sI-0LC",
        "colab_type": "code",
        "colab": {
          "base_uri": "https://localhost:8080/",
          "height": 35
        },
        "outputId": "28735a5f-66b0-40ac-81fb-769c951ce2f1"
      },
      "source": [
        "s[::2]"
      ],
      "execution_count": 36,
      "outputs": [
        {
          "output_type": "execute_result",
          "data": {
            "application/vnd.google.colaboratory.intrinsic+json": {
              "type": "string"
            },
            "text/plain": [
              "'Hlo ol!'"
            ]
          },
          "metadata": {
            "tags": []
          },
          "execution_count": 36
        }
      ]
    },
    {
      "cell_type": "code",
      "metadata": {
        "id": "mC6LFxzLPNk5",
        "colab_type": "code",
        "colab": {
          "base_uri": "https://localhost:8080/",
          "height": 35
        },
        "outputId": "0f7e1cae-ac29-4c1c-bc45-6d9a0d5abbed"
      },
      "source": [
        "s[::2]"
      ],
      "execution_count": 37,
      "outputs": [
        {
          "output_type": "execute_result",
          "data": {
            "application/vnd.google.colaboratory.intrinsic+json": {
              "type": "string"
            },
            "text/plain": [
              "'Hlo ol!'"
            ]
          },
          "metadata": {
            "tags": []
          },
          "execution_count": 37
        }
      ]
    },
    {
      "cell_type": "markdown",
      "metadata": {
        "id": "Ljn-JovH-0LG",
        "colab_type": "text"
      },
      "source": [
        "__String formatting examples__"
      ]
    },
    {
      "cell_type": "code",
      "metadata": {
        "id": "wOl_M4wE-0LG",
        "colab_type": "code",
        "colab": {
          "base_uri": "https://localhost:8080/",
          "height": 34
        },
        "outputId": "d4c31795-8c37-4fbb-aed0-fe8065741735"
      },
      "source": [
        "print(\"str1\", \"str2\", \"str3\")  # The print statement concatenates strings with a space"
      ],
      "execution_count": 38,
      "outputs": [
        {
          "output_type": "stream",
          "text": [
            "str1 str2 str3\n"
          ],
          "name": "stdout"
        }
      ]
    },
    {
      "cell_type": "code",
      "metadata": {
        "id": "5QDesAGQ-0LL",
        "colab_type": "code",
        "colab": {
          "base_uri": "https://localhost:8080/",
          "height": 34
        },
        "outputId": "07079f52-1042-45f2-80e5-a222742987ff"
      },
      "source": [
        "print(\"str1\", 1.0, False, -1j)  # The print statements converts all arguments to strings"
      ],
      "execution_count": 39,
      "outputs": [
        {
          "output_type": "stream",
          "text": [
            "str1 1.0 False (-0-1j)\n"
          ],
          "name": "stdout"
        }
      ]
    },
    {
      "cell_type": "code",
      "metadata": {
        "id": "XD97t_sE-0LP",
        "colab_type": "code",
        "colab": {
          "base_uri": "https://localhost:8080/",
          "height": 34
        },
        "outputId": "076b8762-37e6-4598-9f2c-e35a9f95c038"
      },
      "source": [
        "print(\"str1\" + \"str2\" + \"str3\") # strings added with + are concatenated without space"
      ],
      "execution_count": 40,
      "outputs": [
        {
          "output_type": "stream",
          "text": [
            "str1str2str3\n"
          ],
          "name": "stdout"
        }
      ]
    },
    {
      "cell_type": "code",
      "metadata": {
        "id": "4sbR5b2L-0LT",
        "colab_type": "code",
        "colab": {
          "base_uri": "https://localhost:8080/",
          "height": 34
        },
        "outputId": "72bc285b-7ea9-4bd5-ac3d-d8a048cbbbae"
      },
      "source": [
        "print(\"value = %f\" % 1.0)       # we can use C-style string formatting\n"
      ],
      "execution_count": 41,
      "outputs": [
        {
          "output_type": "stream",
          "text": [
            "value = 1.000000\n"
          ],
          "name": "stdout"
        }
      ]
    },
    {
      "cell_type": "code",
      "metadata": {
        "id": "R1ZWdQrx-0LY",
        "colab_type": "code",
        "colab": {
          "base_uri": "https://localhost:8080/",
          "height": 34
        },
        "outputId": "f74cf542-8492-4c36-dada-c086a2489786"
      },
      "source": [
        "# this formatting creates a string\n",
        "s2 = \"value1 = %.2f. value2 = %d\" % (3.1415, 1.5)\n",
        "\n",
        "print(s2)"
      ],
      "execution_count": 42,
      "outputs": [
        {
          "output_type": "stream",
          "text": [
            "value1 = 3.14. value2 = 1\n"
          ],
          "name": "stdout"
        }
      ]
    },
    {
      "cell_type": "code",
      "metadata": {
        "id": "NZB2J2En-0Lb",
        "colab_type": "code",
        "colab": {
          "base_uri": "https://localhost:8080/",
          "height": 34
        },
        "outputId": "23304845-728b-4eff-eb1a-0be500976b5a"
      },
      "source": [
        "# alternative, more intuitive way of formatting a string \n",
        "s3 = 'value1 = {0}, value2 = {1}'.format(3.1415, 1.5)\n",
        "\n",
        "print(s3)"
      ],
      "execution_count": 43,
      "outputs": [
        {
          "output_type": "stream",
          "text": [
            "value1 = 3.1415, value2 = 1.5\n"
          ],
          "name": "stdout"
        }
      ]
    },
    {
      "cell_type": "markdown",
      "metadata": {
        "id": "J09QuVvo-0Le",
        "colab_type": "text"
      },
      "source": [
        "#### Tuple"
      ]
    },
    {
      "cell_type": "markdown",
      "metadata": {
        "id": "R_xMrxf5-0Le",
        "colab_type": "text"
      },
      "source": [
        "A tuple consists of a number of values separated by commas, for instance:"
      ]
    },
    {
      "cell_type": "code",
      "metadata": {
        "id": "O3pKPtC--0Lf",
        "colab_type": "code",
        "colab": {
          "base_uri": "https://localhost:8080/",
          "height": 34
        },
        "outputId": "4abe9482-ec14-4dc1-8950-48d85b78a742"
      },
      "source": [
        "t = 12345, 54321, 'hello!'\n",
        "print(t)"
      ],
      "execution_count": 44,
      "outputs": [
        {
          "output_type": "stream",
          "text": [
            "(12345, 54321, 'hello!')\n"
          ],
          "name": "stdout"
        }
      ]
    },
    {
      "cell_type": "code",
      "metadata": {
        "id": "IE6-72nC-0Li",
        "colab_type": "code",
        "colab": {
          "base_uri": "https://localhost:8080/",
          "height": 35
        },
        "outputId": "0b17f7b1-c2ea-4dd5-f166-092676bd7fe0"
      },
      "source": [
        "t[2]"
      ],
      "execution_count": 45,
      "outputs": [
        {
          "output_type": "execute_result",
          "data": {
            "application/vnd.google.colaboratory.intrinsic+json": {
              "type": "string"
            },
            "text/plain": [
              "'hello!'"
            ]
          },
          "metadata": {
            "tags": []
          },
          "execution_count": 45
        }
      ]
    },
    {
      "cell_type": "markdown",
      "metadata": {
        "id": "I6g6qh9--0Ln",
        "colab_type": "text"
      },
      "source": [
        "Tuples are immutable, and usually contain a heterogeneous sequence of elements."
      ]
    },
    {
      "cell_type": "code",
      "metadata": {
        "id": "jGaA7Xe8-0Lq",
        "colab_type": "code",
        "colab": {
          "base_uri": "https://localhost:8080/",
          "height": 163
        },
        "outputId": "be6d0ef6-eed4-4604-99b9-dd3dcb9641aa"
      },
      "source": [
        "t[2]=2"
      ],
      "execution_count": 46,
      "outputs": [
        {
          "output_type": "error",
          "ename": "TypeError",
          "evalue": "ignored",
          "traceback": [
            "\u001b[0;31m---------------------------------------------------------------------------\u001b[0m",
            "\u001b[0;31mTypeError\u001b[0m                                 Traceback (most recent call last)",
            "\u001b[0;32m<ipython-input-46-3b30cdf3b271>\u001b[0m in \u001b[0;36m<module>\u001b[0;34m()\u001b[0m\n\u001b[0;32m----> 1\u001b[0;31m \u001b[0mt\u001b[0m\u001b[0;34m[\u001b[0m\u001b[0;36m2\u001b[0m\u001b[0;34m]\u001b[0m\u001b[0;34m=\u001b[0m\u001b[0;36m2\u001b[0m\u001b[0;34m\u001b[0m\u001b[0;34m\u001b[0m\u001b[0m\n\u001b[0m",
            "\u001b[0;31mTypeError\u001b[0m: 'tuple' object does not support item assignment"
          ]
        }
      ]
    },
    {
      "cell_type": "code",
      "metadata": {
        "id": "RPKo3DmM-0Lt",
        "colab_type": "code",
        "colab": {
          "base_uri": "https://localhost:8080/",
          "height": 34
        },
        "outputId": "f7c4b5ff-ac50-4b46-f27f-01617fadbb63"
      },
      "source": [
        "point = (10, 20)\n",
        "\n",
        "print(point, type(point))"
      ],
      "execution_count": 47,
      "outputs": [
        {
          "output_type": "stream",
          "text": [
            "(10, 20) <class 'tuple'>\n"
          ],
          "name": "stdout"
        }
      ]
    },
    {
      "cell_type": "code",
      "metadata": {
        "id": "A2SHuCxi-0Lx",
        "colab_type": "code",
        "colab": {
          "base_uri": "https://localhost:8080/",
          "height": 34
        },
        "outputId": "df6cdb53-090c-46e9-833d-261cdc17274c"
      },
      "source": [
        "point = 10, 20\n",
        "\n",
        "print(point, type(point))"
      ],
      "execution_count": 48,
      "outputs": [
        {
          "output_type": "stream",
          "text": [
            "(10, 20) <class 'tuple'>\n"
          ],
          "name": "stdout"
        }
      ]
    },
    {
      "cell_type": "code",
      "metadata": {
        "id": "R7cs5IY4-0L2",
        "colab_type": "code",
        "colab": {
          "base_uri": "https://localhost:8080/",
          "height": 163
        },
        "outputId": "5b721897-41d4-430b-ca2a-f9d889559202"
      },
      "source": [
        "point[0] = 20"
      ],
      "execution_count": 49,
      "outputs": [
        {
          "output_type": "error",
          "ename": "TypeError",
          "evalue": "ignored",
          "traceback": [
            "\u001b[0;31m---------------------------------------------------------------------------\u001b[0m",
            "\u001b[0;31mTypeError\u001b[0m                                 Traceback (most recent call last)",
            "\u001b[0;32m<ipython-input-49-9734b1daa940>\u001b[0m in \u001b[0;36m<module>\u001b[0;34m()\u001b[0m\n\u001b[0;32m----> 1\u001b[0;31m \u001b[0mpoint\u001b[0m\u001b[0;34m[\u001b[0m\u001b[0;36m0\u001b[0m\u001b[0;34m]\u001b[0m \u001b[0;34m=\u001b[0m \u001b[0;36m20\u001b[0m\u001b[0;34m\u001b[0m\u001b[0;34m\u001b[0m\u001b[0m\n\u001b[0m",
            "\u001b[0;31mTypeError\u001b[0m: 'tuple' object does not support item assignment"
          ]
        }
      ]
    },
    {
      "cell_type": "markdown",
      "metadata": {
        "id": "FWm2k6TF-0L4",
        "colab_type": "text"
      },
      "source": [
        "#### List"
      ]
    },
    {
      "cell_type": "markdown",
      "metadata": {
        "id": "6If-6-9p-0L5",
        "colab_type": "text"
      },
      "source": [
        "Python knows a number of compound data types, used to group together other values. The most versatile is the list, which can be written as a list of comma-separated values (items) between square brackets. \n",
        "\n",
        "* An ordered collection of objects (components).\n",
        "\n",
        "* List are analogus to array\n",
        "\n",
        "* A list allows you to gather a variety of (possibly unrelated) objects under one name.\n",
        "\n",
        "* You can create lists that consists of mixed data types\n",
        "\n",
        "* You can create a list of `int, float, string, logical` and `complex` data types together in a single list.\n"
      ]
    },
    {
      "cell_type": "code",
      "metadata": {
        "id": "8B-_KsIm-0L5",
        "colab_type": "code",
        "colab": {
          "base_uri": "https://localhost:8080/",
          "height": 34
        },
        "outputId": "5289053d-2923-48d5-9fdd-bf576a7c8c54"
      },
      "source": [
        "x = [1, 2, \"a\"]\n",
        "type(x)"
      ],
      "execution_count": 50,
      "outputs": [
        {
          "output_type": "execute_result",
          "data": {
            "text/plain": [
              "list"
            ]
          },
          "metadata": {
            "tags": []
          },
          "execution_count": 50
        }
      ]
    },
    {
      "cell_type": "code",
      "metadata": {
        "id": "fedKYdJM-0L8",
        "colab_type": "code",
        "colab": {
          "base_uri": "https://localhost:8080/",
          "height": 51
        },
        "outputId": "9c4a2533-d51b-4b62-e208-35c6ca136bcd"
      },
      "source": [
        "l = [1,2,3,4]\n",
        "\n",
        "print(type(l))\n",
        "print(l)"
      ],
      "execution_count": 51,
      "outputs": [
        {
          "output_type": "stream",
          "text": [
            "<class 'list'>\n",
            "[1, 2, 3, 4]\n"
          ],
          "name": "stdout"
        }
      ]
    },
    {
      "cell_type": "markdown",
      "metadata": {
        "id": "mt0TZ5n7-0MB",
        "colab_type": "text"
      },
      "source": [
        "__Indexing__\n",
        "\n",
        "Indexing starts at 0"
      ]
    },
    {
      "cell_type": "code",
      "metadata": {
        "id": "a19hZ_IG-0MC",
        "colab_type": "code",
        "colab": {
          "base_uri": "https://localhost:8080/",
          "height": 34
        },
        "outputId": "1878a0c9-c760-4dfb-969b-9bfd96368304"
      },
      "source": [
        "#first element\n",
        "l[0]"
      ],
      "execution_count": 52,
      "outputs": [
        {
          "output_type": "execute_result",
          "data": {
            "text/plain": [
              "1"
            ]
          },
          "metadata": {
            "tags": []
          },
          "execution_count": 52
        }
      ]
    },
    {
      "cell_type": "code",
      "metadata": {
        "id": "DNQQxoE--0MF",
        "colab_type": "code",
        "colab": {
          "base_uri": "https://localhost:8080/",
          "height": 34
        },
        "outputId": "1ed6d7e5-4044-466f-e974-44afd0d70ad1"
      },
      "source": [
        "#last element\n",
        "l[3]"
      ],
      "execution_count": 53,
      "outputs": [
        {
          "output_type": "execute_result",
          "data": {
            "text/plain": [
              "4"
            ]
          },
          "metadata": {
            "tags": []
          },
          "execution_count": 53
        }
      ]
    },
    {
      "cell_type": "code",
      "metadata": {
        "id": "wqGRjje2-0MH",
        "colab_type": "code",
        "colab": {
          "base_uri": "https://localhost:8080/",
          "height": 34
        },
        "outputId": "700eeedb-7064-4813-d96b-47c6cd2406ee"
      },
      "source": [
        "l[-4]"
      ],
      "execution_count": 54,
      "outputs": [
        {
          "output_type": "execute_result",
          "data": {
            "text/plain": [
              "1"
            ]
          },
          "metadata": {
            "tags": []
          },
          "execution_count": 54
        }
      ]
    },
    {
      "cell_type": "markdown",
      "metadata": {
        "id": "zUvx2BeJ-0ML",
        "colab_type": "text"
      },
      "source": [
        "__Slicing__"
      ]
    },
    {
      "cell_type": "code",
      "metadata": {
        "id": "_Em9YY-5-0ML",
        "colab_type": "code",
        "colab": {
          "base_uri": "https://localhost:8080/",
          "height": 102
        },
        "outputId": "852b825d-ef07-4e2f-82f0-e4cafcd4c019"
      },
      "source": [
        "# Complete list\n",
        "print(l)\n",
        "\n",
        "# elements from index 1 till 3 (excluding 3)\n",
        "print(l[1:3])\n",
        "\n",
        "# Every second element starting from 0th index\n",
        "print(l[::2])\n",
        "\n",
        "# Last element\n",
        "print(l[-1])\n",
        "\n",
        "# Last 3 element\n",
        "print(l[-3:])"
      ],
      "execution_count": 55,
      "outputs": [
        {
          "output_type": "stream",
          "text": [
            "[1, 2, 3, 4]\n",
            "[2, 3]\n",
            "[1, 3]\n",
            "4\n",
            "[2, 3, 4]\n"
          ],
          "name": "stdout"
        }
      ]
    },
    {
      "cell_type": "markdown",
      "metadata": {
        "id": "nZ2TIZwA-0MO",
        "colab_type": "text"
      },
      "source": [
        "__List Operations __"
      ]
    },
    {
      "cell_type": "code",
      "metadata": {
        "id": "3oIYlQW7-0MP",
        "colab_type": "code",
        "colab": {
          "base_uri": "https://localhost:8080/",
          "height": 34
        },
        "outputId": "8d11db0c-d251-46b2-ec90-c73d2dd1f7e8"
      },
      "source": [
        "# Elements in a list do not all have to be of the same type\n",
        "l = [1, 'a', 1.0, 1-1j]\n",
        "print(l)"
      ],
      "execution_count": 56,
      "outputs": [
        {
          "output_type": "stream",
          "text": [
            "[1, 'a', 1.0, (1-1j)]\n"
          ],
          "name": "stdout"
        }
      ]
    },
    {
      "cell_type": "code",
      "metadata": {
        "id": "e0Xa7QjC-0MS",
        "colab_type": "code",
        "colab": {
          "base_uri": "https://localhost:8080/",
          "height": 34
        },
        "outputId": "506fea05-7637-48bd-cbc4-36023bf490e9"
      },
      "source": [
        "#Python lists can be arbitrarily nested\n",
        "nested_list = [1, [2, [3, [4, [5]]]]]\n",
        "print(nested_list)"
      ],
      "execution_count": 57,
      "outputs": [
        {
          "output_type": "stream",
          "text": [
            "[1, [2, [3, [4, [5]]]]]\n"
          ],
          "name": "stdout"
        }
      ]
    },
    {
      "cell_type": "markdown",
      "metadata": {
        "id": "gdA3pY1z-0MW",
        "colab_type": "text"
      },
      "source": [
        "The `range` function"
      ]
    },
    {
      "cell_type": "code",
      "metadata": {
        "id": "ZjqmsXoX-0MW",
        "colab_type": "code",
        "colab": {
          "base_uri": "https://localhost:8080/",
          "height": 34
        },
        "outputId": "09051766-86e0-4d06-9321-522c8858ce26"
      },
      "source": [
        "start = 10\n",
        "stop = 30\n",
        "step = 2\n",
        "\n",
        "list(range(start, stop, step))"
      ],
      "execution_count": 58,
      "outputs": [
        {
          "output_type": "execute_result",
          "data": {
            "text/plain": [
              "[10, 12, 14, 16, 18, 20, 22, 24, 26, 28]"
            ]
          },
          "metadata": {
            "tags": []
          },
          "execution_count": 58
        }
      ]
    },
    {
      "cell_type": "code",
      "metadata": {
        "id": "dNIdpBnP-0MZ",
        "colab_type": "code",
        "colab": {
          "base_uri": "https://localhost:8080/",
          "height": 34
        },
        "outputId": "c02a62d2-5ad0-4163-aa3b-15cb54063bff"
      },
      "source": [
        "list(range(-10, 10))"
      ],
      "execution_count": 59,
      "outputs": [
        {
          "output_type": "execute_result",
          "data": {
            "text/plain": [
              "[-10, -9, -8, -7, -6, -5, -4, -3, -2, -1, 0, 1, 2, 3, 4, 5, 6, 7, 8, 9]"
            ]
          },
          "metadata": {
            "tags": []
          },
          "execution_count": 59
        }
      ]
    },
    {
      "cell_type": "markdown",
      "metadata": {
        "id": "Tt23jvh1-0Mb",
        "colab_type": "text"
      },
      "source": [
        "\n",
        "Adding, inserting, modifying, and removing elements from lists"
      ]
    },
    {
      "cell_type": "code",
      "metadata": {
        "id": "aEkiQyzh-0Mc",
        "colab_type": "code",
        "colab": {
          "base_uri": "https://localhost:8080/",
          "height": 34
        },
        "outputId": "556e44fc-9088-4ea1-91a6-cd1d6fd5c9dd"
      },
      "source": [
        "# create a new empty list\n",
        "l = []\n",
        "\n",
        "# add an elements using `append`\n",
        "l.append(1)\n",
        "l.append(2)\n",
        "l.append(2)\n",
        "print(l)"
      ],
      "execution_count": 60,
      "outputs": [
        {
          "output_type": "stream",
          "text": [
            "[1, 2, 2]\n"
          ],
          "name": "stdout"
        }
      ]
    },
    {
      "cell_type": "markdown",
      "metadata": {
        "id": "5VPy5pD9-0Me",
        "colab_type": "text"
      },
      "source": [
        "List comprehensions"
      ]
    },
    {
      "cell_type": "code",
      "metadata": {
        "id": "KRCvoDBg-0Mf",
        "colab_type": "code",
        "colab": {
          "base_uri": "https://localhost:8080/",
          "height": 34
        },
        "outputId": "fb97c060-358f-4ea7-9f1b-fa7a5805239f"
      },
      "source": [
        "squares = [x**2 for x in range(10)]\n",
        "squares"
      ],
      "execution_count": 61,
      "outputs": [
        {
          "output_type": "execute_result",
          "data": {
            "text/plain": [
              "[0, 1, 4, 9, 16, 25, 36, 49, 64, 81]"
            ]
          },
          "metadata": {
            "tags": []
          },
          "execution_count": 61
        }
      ]
    },
    {
      "cell_type": "markdown",
      "metadata": {
        "id": "wQ1suLkV-0Mh",
        "colab_type": "text"
      },
      "source": [
        "#### Set"
      ]
    },
    {
      "cell_type": "markdown",
      "metadata": {
        "id": "F5A4sjhV-0Mh",
        "colab_type": "text"
      },
      "source": [
        "Python also includes a data type for sets. A set is an unordered collection with no duplicate elements. "
      ]
    },
    {
      "cell_type": "code",
      "metadata": {
        "id": "zDOoIt45-0Mi",
        "colab_type": "code",
        "colab": {}
      },
      "source": [
        "basket = {'apple', 'orange', 'apple', 'pear', 'orange', 'banana'}"
      ],
      "execution_count": 62,
      "outputs": []
    },
    {
      "cell_type": "code",
      "metadata": {
        "id": "Afe9bRgS-0Ml",
        "colab_type": "code",
        "colab": {
          "base_uri": "https://localhost:8080/",
          "height": 0
        },
        "outputId": "4a23c836-5b72-450e-d4ba-7f8441c1eabd"
      },
      "source": [
        "print(basket)"
      ],
      "execution_count": 63,
      "outputs": [
        {
          "output_type": "stream",
          "text": [
            "{'banana', 'apple', 'pear', 'orange'}\n"
          ],
          "name": "stdout"
        }
      ]
    },
    {
      "cell_type": "code",
      "metadata": {
        "id": "7HkoZcgW-0Mp",
        "colab_type": "code",
        "colab": {
          "base_uri": "https://localhost:8080/",
          "height": 0
        },
        "outputId": "d1443c05-066f-444b-f192-d9845e549ade"
      },
      "source": [
        "'orange' in basket"
      ],
      "execution_count": 64,
      "outputs": [
        {
          "output_type": "execute_result",
          "data": {
            "text/plain": [
              "True"
            ]
          },
          "metadata": {
            "tags": []
          },
          "execution_count": 64
        }
      ]
    },
    {
      "cell_type": "code",
      "metadata": {
        "id": "9J5mtusx-0My",
        "colab_type": "code",
        "colab": {
          "base_uri": "https://localhost:8080/",
          "height": 0
        },
        "outputId": "3467f25d-5565-4a5c-f55e-cbbd5132b15d"
      },
      "source": [
        "basket.add(\"kiwi\")\n",
        "print(basket)"
      ],
      "execution_count": 65,
      "outputs": [
        {
          "output_type": "stream",
          "text": [
            "{'pear', 'orange', 'kiwi', 'banana', 'apple'}\n"
          ],
          "name": "stdout"
        }
      ]
    },
    {
      "cell_type": "code",
      "metadata": {
        "id": "MHOWm0Vg-0M2",
        "colab_type": "code",
        "colab": {}
      },
      "source": [
        "basket1 = {'apple', 'orange'}\n",
        "basket2 = {'kiwi', 'banana'}"
      ],
      "execution_count": 66,
      "outputs": []
    },
    {
      "cell_type": "code",
      "metadata": {
        "id": "U6TYh2jh-0M6",
        "colab_type": "code",
        "colab": {
          "base_uri": "https://localhost:8080/",
          "height": 0
        },
        "outputId": "506ec633-2b7d-4031-9c0c-9e8d047b6a35"
      },
      "source": [
        "print(basket1 & basket2)"
      ],
      "execution_count": 67,
      "outputs": [
        {
          "output_type": "stream",
          "text": [
            "set()\n"
          ],
          "name": "stdout"
        }
      ]
    },
    {
      "cell_type": "code",
      "metadata": {
        "id": "JLYMWKyH-0M_",
        "colab_type": "code",
        "colab": {
          "base_uri": "https://localhost:8080/",
          "height": 0
        },
        "outputId": "cab6c423-a199-4572-b5f9-f76a3c390a80"
      },
      "source": [
        "print(basket2 - basket1)"
      ],
      "execution_count": 68,
      "outputs": [
        {
          "output_type": "stream",
          "text": [
            "{'banana', 'kiwi'}\n"
          ],
          "name": "stdout"
        }
      ]
    },
    {
      "cell_type": "code",
      "metadata": {
        "id": "_ZdH996u-0ND",
        "colab_type": "code",
        "colab": {
          "base_uri": "https://localhost:8080/",
          "height": 0
        },
        "outputId": "f39a6382-47f4-42af-b143-21e0ab0e0f20"
      },
      "source": [
        "a = set('abracadabra')\n",
        "a"
      ],
      "execution_count": 69,
      "outputs": [
        {
          "output_type": "execute_result",
          "data": {
            "text/plain": [
              "{'a', 'b', 'c', 'd', 'r'}"
            ]
          },
          "metadata": {
            "tags": []
          },
          "execution_count": 69
        }
      ]
    },
    {
      "cell_type": "markdown",
      "metadata": {
        "id": "AH0T_tt5-0NI",
        "colab_type": "text"
      },
      "source": [
        "Similarly to list comprehensions, set comprehensions are also supported:"
      ]
    },
    {
      "cell_type": "code",
      "metadata": {
        "id": "3jLkN2Xh-0NJ",
        "colab_type": "code",
        "colab": {
          "base_uri": "https://localhost:8080/",
          "height": 0
        },
        "outputId": "b0e5ac6c-7b1d-4251-dad1-af3eea4c9eaa"
      },
      "source": [
        "a = {x for x in 'abracadabra' if x not in 'abc'}\n",
        "a"
      ],
      "execution_count": 70,
      "outputs": [
        {
          "output_type": "execute_result",
          "data": {
            "text/plain": [
              "{'d', 'r'}"
            ]
          },
          "metadata": {
            "tags": []
          },
          "execution_count": 70
        }
      ]
    },
    {
      "cell_type": "code",
      "metadata": {
        "id": "vXXZjK_f-0NR",
        "colab_type": "code",
        "colab": {
          "base_uri": "https://localhost:8080/",
          "height": 0
        },
        "outputId": "fbd1d520-e0d8-43f4-f80f-ccacde3e5c42"
      },
      "source": [
        "a = [(x, y) for x in [1,2,3] for y in [3,1,4] if x != y]\n",
        "a"
      ],
      "execution_count": 71,
      "outputs": [
        {
          "output_type": "execute_result",
          "data": {
            "text/plain": [
              "[(1, 3), (1, 4), (2, 3), (2, 1), (2, 4), (3, 1), (3, 4)]"
            ]
          },
          "metadata": {
            "tags": []
          },
          "execution_count": 71
        }
      ]
    },
    {
      "cell_type": "markdown",
      "metadata": {
        "id": "EOnB4A0Y-0NV",
        "colab_type": "text"
      },
      "source": [
        "#### Dictionary"
      ]
    },
    {
      "cell_type": "markdown",
      "metadata": {
        "id": "6AvZHywu-0NW",
        "colab_type": "text"
      },
      "source": [
        "A dictionary is an unordered set of {**key**: **value**} pairs, with the requirement that the keys are unique. \n",
        "\n",
        "A **key** is an unique identifier for the **value** it refers to."
      ]
    },
    {
      "cell_type": "code",
      "metadata": {
        "id": "Oh-xrSTP-0NW",
        "colab_type": "code",
        "colab": {}
      },
      "source": [
        "tel = {'jack': 4098, 'sape': 4139}"
      ],
      "execution_count": 72,
      "outputs": []
    },
    {
      "cell_type": "code",
      "metadata": {
        "id": "KKB-HRg7-0Na",
        "colab_type": "code",
        "colab": {
          "base_uri": "https://localhost:8080/",
          "height": 0
        },
        "outputId": "4d44eb4b-87e0-47d1-b5e1-cf386915b585"
      },
      "source": [
        "tel[\"jack\"]"
      ],
      "execution_count": 73,
      "outputs": [
        {
          "output_type": "execute_result",
          "data": {
            "text/plain": [
              "4098"
            ]
          },
          "metadata": {
            "tags": []
          },
          "execution_count": 73
        }
      ]
    },
    {
      "cell_type": "code",
      "metadata": {
        "id": "27iQDjwV-0Nf",
        "colab_type": "code",
        "colab": {}
      },
      "source": [
        "tel['guido'] = 4127"
      ],
      "execution_count": 74,
      "outputs": []
    },
    {
      "cell_type": "code",
      "metadata": {
        "id": "PXNoclij-0Nm",
        "colab_type": "code",
        "colab": {
          "base_uri": "https://localhost:8080/",
          "height": 0
        },
        "outputId": "3a53414b-0281-4ce9-e2ec-9d82e113b6df"
      },
      "source": [
        "tel"
      ],
      "execution_count": 75,
      "outputs": [
        {
          "output_type": "execute_result",
          "data": {
            "text/plain": [
              "{'guido': 4127, 'jack': 4098, 'sape': 4139}"
            ]
          },
          "metadata": {
            "tags": []
          },
          "execution_count": 75
        }
      ]
    },
    {
      "cell_type": "code",
      "metadata": {
        "id": "oDXNTo0c-0Nq",
        "colab_type": "code",
        "colab": {
          "base_uri": "https://localhost:8080/",
          "height": 0
        },
        "outputId": "389264f7-ca3f-48bb-e5a3-f1fb082fcf9d"
      },
      "source": [
        "list(tel.keys())"
      ],
      "execution_count": 76,
      "outputs": [
        {
          "output_type": "execute_result",
          "data": {
            "text/plain": [
              "['jack', 'sape', 'guido']"
            ]
          },
          "metadata": {
            "tags": []
          },
          "execution_count": 76
        }
      ]
    },
    {
      "cell_type": "code",
      "metadata": {
        "id": "wrSrl7vd-0Nt",
        "colab_type": "code",
        "colab": {
          "base_uri": "https://localhost:8080/",
          "height": 0
        },
        "outputId": "cd1ee30e-f0f2-4c7b-a3c2-e4ef40a92460"
      },
      "source": [
        "list(tel)"
      ],
      "execution_count": 77,
      "outputs": [
        {
          "output_type": "execute_result",
          "data": {
            "text/plain": [
              "['jack', 'sape', 'guido']"
            ]
          },
          "metadata": {
            "tags": []
          },
          "execution_count": 77
        }
      ]
    },
    {
      "cell_type": "code",
      "metadata": {
        "id": "4QiTUJFv-0Nw",
        "colab_type": "code",
        "colab": {
          "base_uri": "https://localhost:8080/",
          "height": 0
        },
        "outputId": "fa534b9c-5672-4fff-a77b-449de1e38950"
      },
      "source": [
        "sorted(tel)"
      ],
      "execution_count": 78,
      "outputs": [
        {
          "output_type": "execute_result",
          "data": {
            "text/plain": [
              "['guido', 'jack', 'sape']"
            ]
          },
          "metadata": {
            "tags": []
          },
          "execution_count": 78
        }
      ]
    },
    {
      "cell_type": "markdown",
      "metadata": {
        "id": "QMEbiJT8-0N0",
        "colab_type": "text"
      },
      "source": [
        "The `dict()` constructor builds dictionaries directly from sequences of key-value pairs:"
      ]
    },
    {
      "cell_type": "code",
      "metadata": {
        "id": "LKbsjzyW-0N0",
        "colab_type": "code",
        "colab": {
          "base_uri": "https://localhost:8080/",
          "height": 0
        },
        "outputId": "a93b4707-8df9-47a1-d2ed-f82b1fb89e73"
      },
      "source": [
        "dict([('sape', 4139), ('guido', 4127), ('jack', 4098)])"
      ],
      "execution_count": 79,
      "outputs": [
        {
          "output_type": "execute_result",
          "data": {
            "text/plain": [
              "{'guido': 4127, 'jack': 4098, 'sape': 4139}"
            ]
          },
          "metadata": {
            "tags": []
          },
          "execution_count": 79
        }
      ]
    },
    {
      "cell_type": "markdown",
      "metadata": {
        "id": "aid8ixZr-0N4",
        "colab_type": "text"
      },
      "source": [
        "### Control Structures"
      ]
    },
    {
      "cell_type": "markdown",
      "metadata": {
        "id": "AP60VvWb-0N5",
        "colab_type": "text"
      },
      "source": [
        "As with most imperative languages, there are three main categories of program control flow:\n",
        "\n",
        "* Branches or Conditional Statements\n",
        "* Loops"
      ]
    },
    {
      "cell_type": "markdown",
      "metadata": {
        "id": "kOAlB1Sw-0N5",
        "colab_type": "text"
      },
      "source": [
        "#### Conditional Statements"
      ]
    },
    {
      "cell_type": "markdown",
      "metadata": {
        "id": "n1LMDdJQ-0N6",
        "colab_type": "text"
      },
      "source": [
        "##### if"
      ]
    },
    {
      "cell_type": "code",
      "metadata": {
        "id": "fKtZLkXH-0N6",
        "colab_type": "code",
        "colab": {
          "base_uri": "https://localhost:8080/",
          "height": 0
        },
        "outputId": "051712f3-f423-4b4c-963f-0df27af21246"
      },
      "source": [
        "a = 10\n",
        "if a > 1:\n",
        "    print(\"a > 1\")"
      ],
      "execution_count": 80,
      "outputs": [
        {
          "output_type": "stream",
          "text": [
            "a > 1\n"
          ],
          "name": "stdout"
        }
      ]
    },
    {
      "cell_type": "markdown",
      "metadata": {
        "id": "fa9tQgTs-0N9",
        "colab_type": "text"
      },
      "source": [
        "##### if-else"
      ]
    },
    {
      "cell_type": "code",
      "metadata": {
        "id": "zF3BP6iv-0N-",
        "colab_type": "code",
        "colab": {
          "base_uri": "https://localhost:8080/",
          "height": 0
        },
        "outputId": "a9c5ebb4-0862-4453-ea06-fc05641c58e3"
      },
      "source": [
        "a = -10\n",
        "if a > 1:\n",
        "    print(\"a > 1\")\n",
        "else:\n",
        "    print(\"a <= 1\")"
      ],
      "execution_count": 81,
      "outputs": [
        {
          "output_type": "stream",
          "text": [
            "a <= 1\n"
          ],
          "name": "stdout"
        }
      ]
    },
    {
      "cell_type": "markdown",
      "metadata": {
        "id": "ElLXqX57-0OA",
        "colab_type": "text"
      },
      "source": [
        "##### if-elif"
      ]
    },
    {
      "cell_type": "code",
      "metadata": {
        "id": "_diReIsI-0OA",
        "colab_type": "code",
        "colab": {
          "base_uri": "https://localhost:8080/",
          "height": 0
        },
        "outputId": "ed375122-b365-4799-d2b7-3bf51e801531"
      },
      "source": [
        "a = 0\n",
        "if a > 1:\n",
        "    print(\"a > 1\")\n",
        "elif a > -1:\n",
        "    print(\"1 >= a > -1\")"
      ],
      "execution_count": 82,
      "outputs": [
        {
          "output_type": "stream",
          "text": [
            "1 >= a > -1\n"
          ],
          "name": "stdout"
        }
      ]
    },
    {
      "cell_type": "markdown",
      "metadata": {
        "id": "gWt_evJc-0OD",
        "colab_type": "text"
      },
      "source": [
        "##### if-elif-else"
      ]
    },
    {
      "cell_type": "code",
      "metadata": {
        "id": "V3D7IXLV-0OD",
        "colab_type": "code",
        "colab": {
          "base_uri": "https://localhost:8080/",
          "height": 0
        },
        "outputId": "4590bbfb-7156-449f-8133-20fd492ae8ad"
      },
      "source": [
        "a = -2\n",
        "if a > 1:\n",
        "    print(\"a > 1\")\n",
        "elif a > -1:\n",
        "    print(\"1 >= a > -1\")\n",
        "elif a > -3:\n",
        "    print(\"-1 >= a > -3\")\n",
        "else:\n",
        "    print(\"a <= -3\")"
      ],
      "execution_count": 83,
      "outputs": [
        {
          "output_type": "stream",
          "text": [
            "-1 >= a > -3\n"
          ],
          "name": "stdout"
        }
      ]
    },
    {
      "cell_type": "markdown",
      "metadata": {
        "id": "OPoj2_ux-0OF",
        "colab_type": "text"
      },
      "source": [
        "#### Loops"
      ]
    },
    {
      "cell_type": "markdown",
      "metadata": {
        "id": "xp1FxTcB-0OG",
        "colab_type": "text"
      },
      "source": [
        "##### while"
      ]
    },
    {
      "cell_type": "code",
      "metadata": {
        "id": "PuzEsM2s-0OH",
        "colab_type": "code",
        "colab": {
          "base_uri": "https://localhost:8080/",
          "height": 0
        },
        "outputId": "6c7e3a90-fcec-4649-fa13-084ac1aaeeec"
      },
      "source": [
        "a = 5\n",
        "while a > 0:\n",
        "    print(\"a =\", a)\n",
        "    a -= 1"
      ],
      "execution_count": 84,
      "outputs": [
        {
          "output_type": "stream",
          "text": [
            "a = 5\n",
            "a = 4\n",
            "a = 3\n",
            "a = 2\n",
            "a = 1\n"
          ],
          "name": "stdout"
        }
      ]
    },
    {
      "cell_type": "markdown",
      "metadata": {
        "id": "lxHIcIaG-0OI",
        "colab_type": "text"
      },
      "source": [
        "##### while-break"
      ]
    },
    {
      "cell_type": "code",
      "metadata": {
        "id": "_yQc68QW-0OJ",
        "colab_type": "code",
        "colab": {
          "base_uri": "https://localhost:8080/",
          "height": 0
        },
        "outputId": "bc0ce5c7-87e2-4fef-be01-1e04d53ea4bf"
      },
      "source": [
        "a = 5\n",
        "while a > 0:\n",
        "    print(\"a =\", a)\n",
        "    a -= 1\n",
        "\n",
        "    if a == 4:\n",
        "        break"
      ],
      "execution_count": 85,
      "outputs": [
        {
          "output_type": "stream",
          "text": [
            "a = 5\n"
          ],
          "name": "stdout"
        }
      ]
    },
    {
      "cell_type": "markdown",
      "metadata": {
        "id": "1KpGFQcm-0OL",
        "colab_type": "text"
      },
      "source": [
        "##### while-else"
      ]
    },
    {
      "cell_type": "code",
      "metadata": {
        "id": "3j6INUfT-0OM",
        "colab_type": "code",
        "colab": {
          "base_uri": "https://localhost:8080/",
          "height": 0
        },
        "outputId": "d48e0ade-04f5-41a6-96b5-40517cc401df"
      },
      "source": [
        "a = 5\n",
        "while a > 0:\n",
        "    print(\"a =\", a)\n",
        "    a -= 1\n",
        "else:\n",
        "    print(\"end of while\")"
      ],
      "execution_count": 86,
      "outputs": [
        {
          "output_type": "stream",
          "text": [
            "a = 5\n",
            "a = 4\n",
            "a = 3\n",
            "a = 2\n",
            "a = 1\n",
            "end of while\n"
          ],
          "name": "stdout"
        }
      ]
    },
    {
      "cell_type": "markdown",
      "metadata": {
        "id": "vXwZn9xz-0OR",
        "colab_type": "text"
      },
      "source": [
        "##### for"
      ]
    },
    {
      "cell_type": "code",
      "metadata": {
        "id": "oYuHzcTH-0OS",
        "colab_type": "code",
        "colab": {
          "base_uri": "https://localhost:8080/",
          "height": 0
        },
        "outputId": "a6c021ad-ca76-4726-8156-02551340e6d3"
      },
      "source": [
        "data = [0, 1, 2, 3, 4, 5]\n",
        "for x in data:\n",
        "    print(x, end=' ')"
      ],
      "execution_count": 87,
      "outputs": [
        {
          "output_type": "stream",
          "text": [
            "0 1 2 3 4 5 "
          ],
          "name": "stdout"
        }
      ]
    },
    {
      "cell_type": "markdown",
      "metadata": {
        "id": "OSSHPO3A-0OU",
        "colab_type": "text"
      },
      "source": [
        "##### for-break"
      ]
    },
    {
      "cell_type": "code",
      "metadata": {
        "id": "rP9i0Aay-0OV",
        "colab_type": "code",
        "colab": {
          "base_uri": "https://localhost:8080/",
          "height": 0
        },
        "outputId": "dcaa6cd9-7331-404c-db98-3139afbee997"
      },
      "source": [
        "data = [0, 1, 2, 3, 4, 5]\n",
        "for x in data:\n",
        "    print(x, end=' ')\n",
        "    if x == 1:\n",
        "        break"
      ],
      "execution_count": 88,
      "outputs": [
        {
          "output_type": "stream",
          "text": [
            "0 1 "
          ],
          "name": "stdout"
        }
      ]
    },
    {
      "cell_type": "markdown",
      "metadata": {
        "id": "urAIN-kT-0Oa",
        "colab_type": "text"
      },
      "source": [
        "##### Iterating dictionary using for"
      ]
    },
    {
      "cell_type": "code",
      "metadata": {
        "id": "9kfXJU3m-0Ob",
        "colab_type": "code",
        "colab": {
          "base_uri": "https://localhost:8080/",
          "height": 0
        },
        "outputId": "46fd8224-27a2-4774-baa8-2fcdfab9f91f"
      },
      "source": [
        "data = {'Bengaluru': 1, 'London': 2}\n",
        "\n",
        "for x in data:\n",
        "    print(x)"
      ],
      "execution_count": 89,
      "outputs": [
        {
          "output_type": "stream",
          "text": [
            "Bengaluru\n",
            "London\n"
          ],
          "name": "stdout"
        }
      ]
    },
    {
      "cell_type": "code",
      "metadata": {
        "id": "dnZiycIW-0Od",
        "colab_type": "code",
        "colab": {
          "base_uri": "https://localhost:8080/",
          "height": 0
        },
        "outputId": "b57de9fb-0693-4084-c8e7-9fede852a8bc"
      },
      "source": [
        "data = {'tokyo': 1, 'new york': 2}\n",
        "\n",
        "for key, value in data.items():\n",
        "    print(key, end=': ')\n",
        "    print(value)"
      ],
      "execution_count": 90,
      "outputs": [
        {
          "output_type": "stream",
          "text": [
            "tokyo: 1\n",
            "new york: 2\n"
          ],
          "name": "stdout"
        }
      ]
    },
    {
      "cell_type": "markdown",
      "metadata": {
        "id": "XQZm7aGd-0Oj",
        "colab_type": "text"
      },
      "source": [
        "### Functions"
      ]
    },
    {
      "cell_type": "markdown",
      "metadata": {
        "id": "BSFz9SKI-0Ok",
        "colab_type": "text"
      },
      "source": [
        "A function in Python is defined using the keyword def, followed by a function name, a signature within parentheses __()__, and a colon __:__. The following code, with one additional level of indentation, is the function body."
      ]
    },
    {
      "cell_type": "code",
      "metadata": {
        "id": "_kdV3Ov1-0Ok",
        "colab_type": "code",
        "colab": {
          "base_uri": "https://localhost:8080/",
          "height": 68
        },
        "outputId": "e8618a68-8abf-43f2-92f5-dda005721c38"
      },
      "source": [
        "def print_square(x): # defining the function: <name_of_func>(<arguments>)\n",
        "    \"\"\"Prints a value\"\"\" # description of a function `docstring`\n",
        "    print(x ** 2) # body of the function\n",
        "\n",
        "print_square(1) # function call\n",
        "print_square(2)\n",
        "print_square(3)"
      ],
      "execution_count": 91,
      "outputs": [
        {
          "output_type": "stream",
          "text": [
            "1\n",
            "4\n",
            "9\n"
          ],
          "name": "stdout"
        }
      ]
    },
    {
      "cell_type": "code",
      "metadata": {
        "id": "51_B2aVk-0Om",
        "colab_type": "code",
        "colab": {
          "base_uri": "https://localhost:8080/",
          "height": 34
        },
        "outputId": "71514133-2780-48fb-a4f7-810c3785b45c"
      },
      "source": [
        "def square(x):\n",
        "    \"\"\" Returns a value\"\"\"\n",
        "    return x ** 2\n",
        "\n",
        "\n",
        "print(square(1) + square(2))"
      ],
      "execution_count": 93,
      "outputs": [
        {
          "output_type": "stream",
          "text": [
            "5\n"
          ],
          "name": "stdout"
        }
      ]
    },
    {
      "cell_type": "code",
      "metadata": {
        "id": "BhAsUNGu-0Oo",
        "colab_type": "code",
        "colab": {
          "base_uri": "https://localhost:8080/",
          "height": 51
        },
        "outputId": "050b86de-ec7a-426e-a830-07b0afe3860d"
      },
      "source": [
        "\n",
        "def sum_and_diff(a, b):\n",
        "    \"\"\"Returns a tuple\"\"\"\n",
        "    return a+b,  a-b\n",
        "\n",
        "y, y_prime = sum_and_diff(1, 2)\n",
        "\n",
        "print(y)\n",
        "print(y_prime)"
      ],
      "execution_count": 94,
      "outputs": [
        {
          "output_type": "stream",
          "text": [
            "3\n",
            "-1\n"
          ],
          "name": "stdout"
        }
      ]
    },
    {
      "cell_type": "code",
      "metadata": {
        "id": "_sF1Y8ze-0Op",
        "colab_type": "code",
        "colab": {
          "base_uri": "https://localhost:8080/",
          "height": 34
        },
        "outputId": "e76327c7-910e-4418-d601-3de920582c32"
      },
      "source": [
        "\n",
        "def n_power(x, n=2):\n",
        "    \"\"\"Function with default argument value\"\"\"\n",
        "    return x ** n\n",
        "\n",
        "y = n_power(10)\n",
        "\n",
        "print(y)"
      ],
      "execution_count": 95,
      "outputs": [
        {
          "output_type": "stream",
          "text": [
            "100\n"
          ],
          "name": "stdout"
        }
      ]
    },
    {
      "cell_type": "markdown",
      "metadata": {
        "id": "nwnNonhw-0Or",
        "colab_type": "text"
      },
      "source": [
        "The function name should be meaniningful and should convey its purpose. Optionally, but highly recommended, we can define a so called \"docstring\", which is a description of the functions purpose and behaivor. The docstring should follow directly after the function definition, before the code in the function body."
      ]
    },
    {
      "cell_type": "code",
      "metadata": {
        "id": "TfMwxr1h-0Os",
        "colab_type": "code",
        "colab": {}
      },
      "source": [
        "def square(x):\n",
        "    \"\"\"\n",
        "    Computes square of the given number x \n",
        "    \n",
        "    Paramerters\n",
        "    -----------\n",
        "    x: int or float\n",
        "        Number whose square is to be calculated\n",
        "        \n",
        "    Returns\n",
        "    -------\n",
        "    int or float\n",
        "        Square of a number\n",
        "    \"\"\"\n",
        "    return x**2"
      ],
      "execution_count": 96,
      "outputs": []
    },
    {
      "cell_type": "code",
      "metadata": {
        "id": "V-YF6imm-0Ot",
        "colab_type": "code",
        "colab": {
          "base_uri": "https://localhost:8080/",
          "height": 272
        },
        "outputId": "07496ce4-4104-4365-e8ac-4d7240c51d73"
      },
      "source": [
        "help(square)"
      ],
      "execution_count": 97,
      "outputs": [
        {
          "output_type": "stream",
          "text": [
            "Help on function square in module __main__:\n",
            "\n",
            "square(x)\n",
            "    Computes square of the given number x \n",
            "    \n",
            "    Paramerters\n",
            "    -----------\n",
            "    x: int or float\n",
            "        Number whose square is to be calculated\n",
            "        \n",
            "    Returns\n",
            "    -------\n",
            "    int or float\n",
            "        Square of a number\n",
            "\n"
          ],
          "name": "stdout"
        }
      ]
    },
    {
      "cell_type": "markdown",
      "metadata": {
        "id": "0REt2qEp-0Ov",
        "colab_type": "text"
      },
      "source": [
        "__Anonymous Functions `lambda`__"
      ]
    },
    {
      "cell_type": "code",
      "metadata": {
        "id": "yAaIBX6m-0Ov",
        "colab_type": "code",
        "colab": {
          "base_uri": "https://localhost:8080/",
          "height": 34
        },
        "outputId": "718fd1b3-b439-4e15-f096-371b5353b450"
      },
      "source": [
        "f = lambda x: x**2 + 1\n",
        "print(f(10))"
      ],
      "execution_count": 98,
      "outputs": [
        {
          "output_type": "stream",
          "text": [
            "101\n"
          ],
          "name": "stdout"
        }
      ]
    },
    {
      "cell_type": "markdown",
      "metadata": {
        "id": "IXrs3QDf-0Oy",
        "colab_type": "text"
      },
      "source": [
        "### Modules"
      ]
    },
    {
      "cell_type": "markdown",
      "metadata": {
        "id": "KljylHch-0Oy",
        "colab_type": "text"
      },
      "source": [
        "One of the most important concepts in good programming is to reuse code and avoid repetitions.\n",
        "\n",
        "The idea is to write functions and classes with a well-defined purpose and scope, and reuse these instead of repeating similar code in different part of a program (modular programming). The result is usually that readability and maintainability of a program is greatly improved. What this means in practice is that our programs have fewer bugs, are easier to extend and debug/troubleshoot. \n",
        "\n",
        "Python supports modular programming at different levels. Functions and classes are examples of tools for low-level modular programming. Python modules are a higher-level modular programming construct, where we can collect related variables, functions and classes in a module. A python module is defined in a python file (with file-ending `.py`), and it can be made accessible to other Python modules and programs using the `import` statement. \n",
        "\n"
      ]
    },
    {
      "cell_type": "markdown",
      "metadata": {
        "id": "KNuxAdAA-0Oz",
        "colab_type": "text"
      },
      "source": [
        "Here is what python documentation says about modules:\n",
        "\n",
        "```\n",
        "If you quit from the Python interpreter and enter it again, the definitions you have made (functions and variables) are lost. Therefore, if you want to write a somewhat longer program, you are better off using a text editor to prepare the input for the interpreter and running it with that file as input instead. This is known as creating a script. As your program gets longer, you may want to split it into several files for easier maintenance. You may also want to use a handy function that you’ve written in several programs without copying its definition into each program.\n",
        "\n",
        "To support this, Python has a way to put definitions in a file and use them in a script or in an interactive instance of the interpreter. Such a file is called a module; definitions from a module can be imported into other modules or into the main module (the collection of variables that you have access to in a script executed at the top level and in calculator mode).\n",
        "\n",
        "A module is a file containing Python definitions and statements. The file name is the module name with the suffix .py appended. Within a module, the module’s name (as a string) is available as the value of the global variable __name__.\n",
        "\n",
        "```\n",
        "\n",
        "\n",
        "source: [docs.python.org](https://docs.python.org/3/tutorial/modules.htmhttps://docs.python.org/3/tutorial/modules.html)\n",
        "\n",
        "Consider the following example: the file `mymodule.py` contains simple example implementations of a variable, function and a class:"
      ]
    },
    {
      "cell_type": "code",
      "metadata": {
        "id": "-qZfQr45-0Oz",
        "colab_type": "code",
        "colab": {
          "base_uri": "https://localhost:8080/",
          "height": 34
        },
        "outputId": "8d617281-f795-4e37-eda4-42011c0ce3e5"
      },
      "source": [
        "%%file mymodule.py\n",
        "\"\"\"\n",
        "Example of a python module. Contains a variable called my_variable,\n",
        "a function called my_function, and a class called MyClass.\n",
        "\"\"\"\n",
        "\n",
        "my_variable = 0\n",
        "\n",
        "def my_function():\n",
        "    \"\"\"\n",
        "    Example function\n",
        "    \"\"\"\n",
        "    return my_variable\n",
        "    \n",
        "class MyClass:\n",
        "    \"\"\"\n",
        "    Example class.\n",
        "    \"\"\"\n",
        "\n",
        "    def __init__(self):\n",
        "        self.variable = my_variable\n",
        "        \n",
        "    def set_variable(self, new_value):\n",
        "        \"\"\"\n",
        "        Set self.variable to a new value\n",
        "        \"\"\"\n",
        "        self.variable = new_value\n",
        "        \n",
        "    def get_variable(self):\n",
        "        return self.variable"
      ],
      "execution_count": 99,
      "outputs": [
        {
          "output_type": "stream",
          "text": [
            "Writing mymodule.py\n"
          ],
          "name": "stdout"
        }
      ]
    },
    {
      "cell_type": "markdown",
      "metadata": {
        "id": "kGrUbjYN-0O3",
        "colab_type": "text"
      },
      "source": [
        "We can import the module `mymodule` into our Python program using `import`:"
      ]
    },
    {
      "cell_type": "code",
      "metadata": {
        "id": "l_sRpvCR-0O4",
        "colab_type": "code",
        "colab": {}
      },
      "source": [
        "import mymodule"
      ],
      "execution_count": 100,
      "outputs": []
    },
    {
      "cell_type": "markdown",
      "metadata": {
        "id": "3I6EwogH-0O5",
        "colab_type": "text"
      },
      "source": [
        "Use `help(module)` to get a summary of what the module provides:"
      ]
    },
    {
      "cell_type": "code",
      "metadata": {
        "id": "4YdrGes_-0O6",
        "colab_type": "code",
        "colab": {
          "base_uri": "https://localhost:8080/",
          "height": 799
        },
        "outputId": "aabef1f4-756a-400f-bc46-7e0ca88d79e2"
      },
      "source": [
        "help(mymodule)"
      ],
      "execution_count": 101,
      "outputs": [
        {
          "output_type": "stream",
          "text": [
            "Help on module mymodule:\n",
            "\n",
            "NAME\n",
            "    mymodule\n",
            "\n",
            "DESCRIPTION\n",
            "    Example of a python module. Contains a variable called my_variable,\n",
            "    a function called my_function, and a class called MyClass.\n",
            "\n",
            "CLASSES\n",
            "    builtins.object\n",
            "        MyClass\n",
            "    \n",
            "    class MyClass(builtins.object)\n",
            "     |  Example class.\n",
            "     |  \n",
            "     |  Methods defined here:\n",
            "     |  \n",
            "     |  __init__(self)\n",
            "     |      Initialize self.  See help(type(self)) for accurate signature.\n",
            "     |  \n",
            "     |  get_variable(self)\n",
            "     |  \n",
            "     |  set_variable(self, new_value)\n",
            "     |      Set self.variable to a new value\n",
            "     |  \n",
            "     |  ----------------------------------------------------------------------\n",
            "     |  Data descriptors defined here:\n",
            "     |  \n",
            "     |  __dict__\n",
            "     |      dictionary for instance variables (if defined)\n",
            "     |  \n",
            "     |  __weakref__\n",
            "     |      list of weak references to the object (if defined)\n",
            "\n",
            "FUNCTIONS\n",
            "    my_function()\n",
            "        Example function\n",
            "\n",
            "DATA\n",
            "    my_variable = 0\n",
            "\n",
            "FILE\n",
            "    /content/mymodule.py\n",
            "\n",
            "\n"
          ],
          "name": "stdout"
        }
      ]
    },
    {
      "cell_type": "code",
      "metadata": {
        "id": "-UoypIVN-0O9",
        "colab_type": "code",
        "colab": {
          "base_uri": "https://localhost:8080/",
          "height": 34
        },
        "outputId": "1e9cba61-dd1a-485d-ce1e-a122df4eafc2"
      },
      "source": [
        "mymodule.my_variable"
      ],
      "execution_count": 102,
      "outputs": [
        {
          "output_type": "execute_result",
          "data": {
            "text/plain": [
              "0"
            ]
          },
          "metadata": {
            "tags": []
          },
          "execution_count": 102
        }
      ]
    },
    {
      "cell_type": "code",
      "metadata": {
        "id": "HqkAm96m-0O_",
        "colab_type": "code",
        "colab": {
          "base_uri": "https://localhost:8080/",
          "height": 34
        },
        "outputId": "fcdc3a08-67c5-4113-e0f0-93b9e9b63a73"
      },
      "source": [
        "mymodule.my_function() "
      ],
      "execution_count": 103,
      "outputs": [
        {
          "output_type": "execute_result",
          "data": {
            "text/plain": [
              "0"
            ]
          },
          "metadata": {
            "tags": []
          },
          "execution_count": 103
        }
      ]
    },
    {
      "cell_type": "code",
      "metadata": {
        "id": "mq32o6La-0PB",
        "colab_type": "code",
        "colab": {
          "base_uri": "https://localhost:8080/",
          "height": 34
        },
        "outputId": "50b8aaf1-98f6-4b3e-af64-88871683f304"
      },
      "source": [
        "my_class = mymodule.MyClass() \n",
        "my_class.set_variable(10)\n",
        "my_class.get_variable()"
      ],
      "execution_count": 104,
      "outputs": [
        {
          "output_type": "execute_result",
          "data": {
            "text/plain": [
              "10"
            ]
          },
          "metadata": {
            "tags": []
          },
          "execution_count": 104
        }
      ]
    },
    {
      "cell_type": "markdown",
      "metadata": {
        "id": "ERdnV84X-0PD",
        "colab_type": "text"
      },
      "source": [
        "### Classes and Objects"
      ]
    },
    {
      "cell_type": "markdown",
      "metadata": {
        "id": "kVe7ah_U-0PE",
        "colab_type": "text"
      },
      "source": [
        "Classes are the key features of object-oriented programming. A class is a structure for representing an object and the operations that can be performed on the object. \n",
        "\n",
        "In Python a class can contain *attributes* (variables) and *methods* (functions).\n",
        "\n",
        "A class is defined almost like a function, but using the `class` keyword, and the class definition usually contains a number of class method definitions (a function in a class).\n",
        "\n",
        "* Each class method should have an argument `self` as its first argument. This object is a self-reference.\n",
        "\n",
        "* Some class method names have special meaning, for example:\n",
        "\n",
        "    * `__init__`: The name of the method that is invoked when the object is first created.\n",
        "    * `__str__` : A method that is invoked when a simple string representation of the class is needed, as for example when printed.\n",
        "    * There are many more, see http://docs.python.org/3/reference/datamodel.html#special-method-names"
      ]
    },
    {
      "cell_type": "code",
      "metadata": {
        "id": "XQ62lATG-0PF",
        "colab_type": "code",
        "colab": {}
      },
      "source": [
        "class Point:\n",
        "    \"\"\" Simple class for representing a point in a Cartesian coordinate system. \"\"\"\n",
        "    \n",
        "    def __init__(self, x, y):\n",
        "        \"\"\" Create a new Point at x, y. \"\"\"\n",
        "        self.x = x\n",
        "        self.y = y\n",
        "        \n",
        "    def translate(self, dx, dy):\n",
        "        \"\"\" Translate the point by dx and dy in the x and y direction. \"\"\"\n",
        "        self.x += dx\n",
        "        self.y += dy\n",
        "        \n",
        "    def __str__(self):\n",
        "        return(\"Point at [%f, %f]\" % (self.x, self.y))\n"
      ],
      "execution_count": 105,
      "outputs": []
    },
    {
      "cell_type": "code",
      "metadata": {
        "id": "tgJS1fCO-0PI",
        "colab_type": "code",
        "colab": {
          "base_uri": "https://localhost:8080/",
          "height": 0
        },
        "outputId": "38922e3c-4e7a-4b85-82f7-61783a230a6d"
      },
      "source": [
        "help(Point)"
      ],
      "execution_count": 106,
      "outputs": [
        {
          "output_type": "stream",
          "text": [
            "Help on class Point in module __main__:\n",
            "\n",
            "class Point(builtins.object)\n",
            " |  Simple class for representing a point in a Cartesian coordinate system.\n",
            " |  \n",
            " |  Methods defined here:\n",
            " |  \n",
            " |  __init__(self, x, y)\n",
            " |      Create a new Point at x, y.\n",
            " |  \n",
            " |  __str__(self)\n",
            " |      Return str(self).\n",
            " |  \n",
            " |  translate(self, dx, dy)\n",
            " |      Translate the point by dx and dy in the x and y direction.\n",
            " |  \n",
            " |  ----------------------------------------------------------------------\n",
            " |  Data descriptors defined here:\n",
            " |  \n",
            " |  __dict__\n",
            " |      dictionary for instance variables (if defined)\n",
            " |  \n",
            " |  __weakref__\n",
            " |      list of weak references to the object (if defined)\n",
            "\n"
          ],
          "name": "stdout"
        }
      ]
    },
    {
      "cell_type": "code",
      "metadata": {
        "id": "cEkY4fcp-0PL",
        "colab_type": "code",
        "colab": {
          "base_uri": "https://localhost:8080/",
          "height": 0
        },
        "outputId": "8a6cf386-030b-4f3d-b9f9-eed8fcdb4352"
      },
      "source": [
        "p1 = Point(0, 0) # this will invoke the __init__ method in the Point class\n",
        "\n",
        "print(p1) "
      ],
      "execution_count": 107,
      "outputs": [
        {
          "output_type": "stream",
          "text": [
            "Point at [0.000000, 0.000000]\n"
          ],
          "name": "stdout"
        }
      ]
    },
    {
      "cell_type": "code",
      "metadata": {
        "id": "e3JOMcI--0PO",
        "colab_type": "code",
        "colab": {
          "base_uri": "https://localhost:8080/",
          "height": 0
        },
        "outputId": "8a2035eb-9128-4e18-fa39-4979a939630c"
      },
      "source": [
        "p1.x"
      ],
      "execution_count": 108,
      "outputs": [
        {
          "output_type": "execute_result",
          "data": {
            "text/plain": [
              "0"
            ]
          },
          "metadata": {
            "tags": []
          },
          "execution_count": 108
        }
      ]
    },
    {
      "cell_type": "code",
      "metadata": {
        "id": "ggRpgGu2-0PS",
        "colab_type": "code",
        "colab": {
          "base_uri": "https://localhost:8080/",
          "height": 0
        },
        "outputId": "25d4eaa3-ec8e-4f98-f0cf-7ec2a50cbc98"
      },
      "source": [
        "p2 = Point(1, 1)\n",
        "\n",
        "p1.translate(0.25, 1.5)\n",
        "\n",
        "print(p1)\n",
        "print(p2)"
      ],
      "execution_count": 109,
      "outputs": [
        {
          "output_type": "stream",
          "text": [
            "Point at [0.250000, 1.500000]\n",
            "Point at [1.000000, 1.000000]\n"
          ],
          "name": "stdout"
        }
      ]
    },
    {
      "cell_type": "markdown",
      "metadata": {
        "collapsed": true,
        "id": "S4hLA4iJ-0PV",
        "colab_type": "text"
      },
      "source": [
        "### Errors and Exceptions"
      ]
    },
    {
      "cell_type": "markdown",
      "metadata": {
        "id": "bus2f_iy-0PW",
        "colab_type": "text"
      },
      "source": [
        "source: [docs.python.org](https://docs.python.org/3/tutorial/errors.html)"
      ]
    },
    {
      "cell_type": "markdown",
      "metadata": {
        "collapsed": true,
        "id": "DbsjNtqr-0PW",
        "colab_type": "text"
      },
      "source": [
        "#### Syntax Errors"
      ]
    },
    {
      "cell_type": "markdown",
      "metadata": {
        "id": "qZwRpjCk-0PX",
        "colab_type": "text"
      },
      "source": [
        "Syntax errors, also known as parsing errors, are perhaps the most common kind of complaint you get while you are still learning Python"
      ]
    },
    {
      "cell_type": "code",
      "metadata": {
        "id": "4ncON2ab-0PY",
        "colab_type": "code",
        "colab": {
          "base_uri": "https://localhost:8080/",
          "height": 129
        },
        "outputId": "b47d0ae7-31d8-4b47-f49a-59ff7c018b4a"
      },
      "source": [
        "while True \n",
        "    print('Hello world')"
      ],
      "execution_count": 110,
      "outputs": [
        {
          "output_type": "error",
          "ename": "SyntaxError",
          "evalue": "ignored",
          "traceback": [
            "\u001b[0;36m  File \u001b[0;32m\"<ipython-input-110-362de0520372>\"\u001b[0;36m, line \u001b[0;32m1\u001b[0m\n\u001b[0;31m    while True\u001b[0m\n\u001b[0m               ^\u001b[0m\n\u001b[0;31mSyntaxError\u001b[0m\u001b[0;31m:\u001b[0m invalid syntax\n"
          ]
        }
      ]
    },
    {
      "cell_type": "markdown",
      "metadata": {
        "id": "hw_5F1-g-0Pa",
        "colab_type": "text"
      },
      "source": [
        "The parser repeats the offending line and displays a little ‘arrow’ pointing at the earliest point in the line where the error was detected. The error is caused by (or at least detected at) the token preceding the arrow: in the example, the error is detected at the function print(), since a colon (':') is missing before it. File name and line number are printed so you know where to look in case the input came from a script."
      ]
    },
    {
      "cell_type": "markdown",
      "metadata": {
        "id": "kcwU_LYL-0Pb",
        "colab_type": "text"
      },
      "source": [
        "#### Exceptions"
      ]
    },
    {
      "cell_type": "markdown",
      "metadata": {
        "id": "l2oYk3Ik-0Pe",
        "colab_type": "text"
      },
      "source": [
        "Even if a statement or expression is syntactically correct, it may cause an error when an attempt is made to execute it. Errors detected during execution are called exceptions and are not unconditionally fatal: you will soon learn how to handle them in Python programs. Most exceptions are not handled by programs, however, and result in error messages as shown here:"
      ]
    },
    {
      "cell_type": "code",
      "metadata": {
        "id": "4LWTKLfA-0Pf",
        "colab_type": "code",
        "colab": {}
      },
      "source": [
        "def this_fails():\n",
        "    x = 1/0"
      ],
      "execution_count": 111,
      "outputs": []
    },
    {
      "cell_type": "code",
      "metadata": {
        "id": "eQCwbXz3-0Pj",
        "colab_type": "code",
        "colab": {
          "base_uri": "https://localhost:8080/",
          "height": 231
        },
        "outputId": "deeade4c-f2fe-4ab7-e1fd-8dcda5ad0efa"
      },
      "source": [
        "this_fails()"
      ],
      "execution_count": 112,
      "outputs": [
        {
          "output_type": "error",
          "ename": "ZeroDivisionError",
          "evalue": "ignored",
          "traceback": [
            "\u001b[0;31m---------------------------------------------------------------------------\u001b[0m",
            "\u001b[0;31mZeroDivisionError\u001b[0m                         Traceback (most recent call last)",
            "\u001b[0;32m<ipython-input-112-3dce0dcf59c8>\u001b[0m in \u001b[0;36m<module>\u001b[0;34m()\u001b[0m\n\u001b[0;32m----> 1\u001b[0;31m \u001b[0mthis_fails\u001b[0m\u001b[0;34m(\u001b[0m\u001b[0;34m)\u001b[0m\u001b[0;34m\u001b[0m\u001b[0;34m\u001b[0m\u001b[0m\n\u001b[0m",
            "\u001b[0;32m<ipython-input-111-fbff1a2db54f>\u001b[0m in \u001b[0;36mthis_fails\u001b[0;34m()\u001b[0m\n\u001b[1;32m      1\u001b[0m \u001b[0;32mdef\u001b[0m \u001b[0mthis_fails\u001b[0m\u001b[0;34m(\u001b[0m\u001b[0;34m)\u001b[0m\u001b[0;34m:\u001b[0m\u001b[0;34m\u001b[0m\u001b[0;34m\u001b[0m\u001b[0m\n\u001b[0;32m----> 2\u001b[0;31m     \u001b[0mx\u001b[0m \u001b[0;34m=\u001b[0m \u001b[0;36m1\u001b[0m\u001b[0;34m/\u001b[0m\u001b[0;36m0\u001b[0m\u001b[0;34m\u001b[0m\u001b[0;34m\u001b[0m\u001b[0m\n\u001b[0m",
            "\u001b[0;31mZeroDivisionError\u001b[0m: division by zero"
          ]
        }
      ]
    },
    {
      "cell_type": "markdown",
      "metadata": {
        "id": "J53LyhZi-0Pn",
        "colab_type": "text"
      },
      "source": [
        "######  Handling Exceptions"
      ]
    },
    {
      "cell_type": "markdown",
      "metadata": {
        "id": "WGXxmuVI-0Po",
        "colab_type": "text"
      },
      "source": [
        "To gracefully catch errors that are generated by functions and class methods, or by the Python interpreter itself, use the try and  except statements"
      ]
    },
    {
      "cell_type": "markdown",
      "metadata": {
        "id": "q4kCvNR0-0Po",
        "colab_type": "text"
      },
      "source": [
        "try:\n",
        "    # normal code goes here\n",
        "except:\n",
        "    # code for error handling goes here\n",
        "    # this code is not executed unless the code\n",
        "    # above generated an error\n"
      ]
    },
    {
      "cell_type": "code",
      "metadata": {
        "id": "Fw869SKb-0Pp",
        "colab_type": "code",
        "colab": {
          "base_uri": "https://localhost:8080/",
          "height": 34
        },
        "outputId": "6123d4b6-b055-48d1-ad40-44085fa30e99"
      },
      "source": [
        "try:\n",
        "    this_fails()\n",
        "except ZeroDivisionError as err:\n",
        "    print('Handling run-time error:', err)"
      ],
      "execution_count": 113,
      "outputs": [
        {
          "output_type": "stream",
          "text": [
            "Handling run-time error: division by zero\n"
          ],
          "name": "stdout"
        }
      ]
    },
    {
      "cell_type": "markdown",
      "metadata": {
        "id": "CyBZtMaq-0Ps",
        "colab_type": "text"
      },
      "source": [
        "The try statement works as follows.\n",
        "\n",
        "1. First, the try clause (the statement(s) between the try and except keywords) is executed.\n",
        "2. If no exception occurs, the except clause is skipped and execution of the try statement is finished.\n",
        "3. If an exception occurs during execution of the try clause, the rest of the clause is skipped. Then if its type matches the exception named after the except keyword, the except clause is executed, and then execution continues after the try statement.\n",
        "4. If an exception occurs which does not match the exception named in the except clause, it is passed on to outer try statements; if no handler is found, it is an unhandled exception and execution stops with a message as shown above.\n",
        "\n"
      ]
    },
    {
      "cell_type": "code",
      "metadata": {
        "id": "jScIRDUE-0Ps",
        "colab_type": "code",
        "colab": {
          "base_uri": "https://localhost:8080/",
          "height": 350
        },
        "outputId": "c25ce783-993e-4fea-b940-58acb28aa188"
      },
      "source": [
        "try:\n",
        "    print(\"test\")\n",
        "    # generate an error: the variable test is not defined\n",
        "    print(test)\n",
        "except Exception as e:\n",
        "    print(\"Caught an exception:\" + str(e))\n",
        "    raise e"
      ],
      "execution_count": 114,
      "outputs": [
        {
          "output_type": "stream",
          "text": [
            "test\n",
            "Caught an exception:name 'test' is not defined\n"
          ],
          "name": "stdout"
        },
        {
          "output_type": "error",
          "ename": "NameError",
          "evalue": "ignored",
          "traceback": [
            "\u001b[0;31m---------------------------------------------------------------------------\u001b[0m",
            "\u001b[0;31mNameError\u001b[0m                                 Traceback (most recent call last)",
            "\u001b[0;32m<ipython-input-114-0b258b386bfc>\u001b[0m in \u001b[0;36m<module>\u001b[0;34m()\u001b[0m\n\u001b[1;32m      5\u001b[0m \u001b[0;32mexcept\u001b[0m \u001b[0mException\u001b[0m \u001b[0;32mas\u001b[0m \u001b[0me\u001b[0m\u001b[0;34m:\u001b[0m\u001b[0;34m\u001b[0m\u001b[0;34m\u001b[0m\u001b[0m\n\u001b[1;32m      6\u001b[0m     \u001b[0mprint\u001b[0m\u001b[0;34m(\u001b[0m\u001b[0;34m\"Caught an exception:\"\u001b[0m \u001b[0;34m+\u001b[0m \u001b[0mstr\u001b[0m\u001b[0;34m(\u001b[0m\u001b[0me\u001b[0m\u001b[0;34m)\u001b[0m\u001b[0;34m)\u001b[0m\u001b[0;34m\u001b[0m\u001b[0;34m\u001b[0m\u001b[0m\n\u001b[0;32m----> 7\u001b[0;31m     \u001b[0;32mraise\u001b[0m \u001b[0me\u001b[0m\u001b[0;34m\u001b[0m\u001b[0;34m\u001b[0m\u001b[0m\n\u001b[0m",
            "\u001b[0;32m<ipython-input-114-0b258b386bfc>\u001b[0m in \u001b[0;36m<module>\u001b[0;34m()\u001b[0m\n\u001b[1;32m      2\u001b[0m     \u001b[0mprint\u001b[0m\u001b[0;34m(\u001b[0m\u001b[0;34m\"test\"\u001b[0m\u001b[0;34m)\u001b[0m\u001b[0;34m\u001b[0m\u001b[0;34m\u001b[0m\u001b[0m\n\u001b[1;32m      3\u001b[0m     \u001b[0;31m# generate an error: the variable test is not defined\u001b[0m\u001b[0;34m\u001b[0m\u001b[0;34m\u001b[0m\u001b[0;34m\u001b[0m\u001b[0m\n\u001b[0;32m----> 4\u001b[0;31m     \u001b[0mprint\u001b[0m\u001b[0;34m(\u001b[0m\u001b[0mtest\u001b[0m\u001b[0;34m)\u001b[0m\u001b[0;34m\u001b[0m\u001b[0;34m\u001b[0m\u001b[0m\n\u001b[0m\u001b[1;32m      5\u001b[0m \u001b[0;32mexcept\u001b[0m \u001b[0mException\u001b[0m \u001b[0;32mas\u001b[0m \u001b[0me\u001b[0m\u001b[0;34m:\u001b[0m\u001b[0;34m\u001b[0m\u001b[0;34m\u001b[0m\u001b[0m\n\u001b[1;32m      6\u001b[0m     \u001b[0mprint\u001b[0m\u001b[0;34m(\u001b[0m\u001b[0;34m\"Caught an exception:\"\u001b[0m \u001b[0;34m+\u001b[0m \u001b[0mstr\u001b[0m\u001b[0;34m(\u001b[0m\u001b[0me\u001b[0m\u001b[0;34m)\u001b[0m\u001b[0;34m)\u001b[0m\u001b[0;34m\u001b[0m\u001b[0;34m\u001b[0m\u001b[0m\n",
            "\u001b[0;31mNameError\u001b[0m: name 'test' is not defined"
          ]
        }
      ]
    },
    {
      "cell_type": "markdown",
      "metadata": {
        "id": "6D6R_WUu-0Pv",
        "colab_type": "text"
      },
      "source": [
        "To generate an exception we can use the `raise` statement, which takes an argument that must be an instance of the class `BaseException` or a class derived from it. "
      ]
    },
    {
      "cell_type": "code",
      "metadata": {
        "id": "CO6Sl5aw-0Pw",
        "colab_type": "code",
        "colab": {
          "base_uri": "https://localhost:8080/",
          "height": 163
        },
        "outputId": "4b6e4268-4a69-4075-a0bc-4c94443c848a"
      },
      "source": [
        "raise Exception(\"description of the error\")"
      ],
      "execution_count": 115,
      "outputs": [
        {
          "output_type": "error",
          "ename": "Exception",
          "evalue": "ignored",
          "traceback": [
            "\u001b[0;31m---------------------------------------------------------------------------\u001b[0m",
            "\u001b[0;31mException\u001b[0m                                 Traceback (most recent call last)",
            "\u001b[0;32m<ipython-input-115-c32f93e4dfa0>\u001b[0m in \u001b[0;36m<module>\u001b[0;34m()\u001b[0m\n\u001b[0;32m----> 1\u001b[0;31m \u001b[0;32mraise\u001b[0m \u001b[0mException\u001b[0m\u001b[0;34m(\u001b[0m\u001b[0;34m\"description of the error\"\u001b[0m\u001b[0;34m)\u001b[0m\u001b[0;34m\u001b[0m\u001b[0;34m\u001b[0m\u001b[0m\n\u001b[0m",
            "\u001b[0;31mException\u001b[0m: description of the error"
          ]
        }
      ]
    },
    {
      "cell_type": "markdown",
      "metadata": {
        "id": "kiHj0mv1-0Pz",
        "colab_type": "text"
      },
      "source": [
        "## Further reading"
      ]
    },
    {
      "cell_type": "markdown",
      "metadata": {
        "id": "fNfiOog9-0P0",
        "colab_type": "text"
      },
      "source": [
        "* http://www.python.org - The official web page of the Python programming language.\n",
        "* http://www.python.org/dev/peps/pep-0008 - Style guide for Python programming. Highly recommended. \n",
        "* http://www.greenteapress.com/thinkpython/ - A free book on Python programming.\n",
        "* [Python Essential Reference](http://www.amazon.com/Python-Essential-Reference-4th-Edition/dp/0672329786) - A good reference book on Python programming."
      ]
    },
    {
      "cell_type": "markdown",
      "metadata": {
        "id": "fOOje1GN-0P1",
        "colab_type": "text"
      },
      "source": [
        "Next: [Numpy](NumPy.ipynb)"
      ]
    }
  ]
}